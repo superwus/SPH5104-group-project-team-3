{
 "cells": [
  {
   "cell_type": "code",
   "execution_count": 1,
   "id": "e53329a9",
   "metadata": {},
   "outputs": [],
   "source": [
    "import os\n",
    "import pandas as pd\n",
    "import numpy as np\n",
    "from scipy.stats import shapiro, ttest_ind, mannwhitneyu, chi2_contingency, fisher_exact\n",
    "from sklearn.experimental import enable_iterative_imputer\n",
    "from sklearn.impute import SimpleImputer, IterativeImputer\n",
    "from rpy2.robjects.packages import importr\n",
    "from rpy2.robjects import numpy2ri\n",
    "import scipy.stats as stats"
   ]
  },
  {
   "cell_type": "code",
   "execution_count": 2,
   "id": "a862d148",
   "metadata": {},
   "outputs": [],
   "source": [
    "# Load the data \n",
    "df = pd.read_csv('sepsis_cleaned.csv')"
   ]
  },
  {
   "cell_type": "code",
   "execution_count": 3,
   "id": "0edaeafb",
   "metadata": {},
   "outputs": [
    {
     "data": {
      "text/plain": [
       "(2145, 91)"
      ]
     },
     "execution_count": 3,
     "metadata": {},
     "output_type": "execute_result"
    }
   ],
   "source": [
    "df.shape"
   ]
  },
  {
   "cell_type": "code",
   "execution_count": null,
   "id": "739c02c6",
   "metadata": {},
   "outputs": [],
   "source": []
  },
  {
   "cell_type": "code",
   "execution_count": 4,
   "id": "bc8bf525",
   "metadata": {},
   "outputs": [],
   "source": [
    "# Convert EDTime and HospTime to hours\n",
    "df['EDTime'] = df['EDTime'] * 24\n",
    "df['HospTime'] = df['HospTime'] * 24\n"
   ]
  },
  {
   "cell_type": "code",
   "execution_count": 5,
   "id": "33e06191",
   "metadata": {},
   "outputs": [],
   "source": [
    "# Divide data into groups based on EDTime\n",
    "df['EDTimeGroup'] = pd.cut(df['EDTime'], [0, 6, 12, 24, np.inf], labels=['<6', '6-12', '12-24', '>24'])"
   ]
  },
  {
   "cell_type": "code",
   "execution_count": 6,
   "id": "93f53f0e",
   "metadata": {},
   "outputs": [],
   "source": [
    "# Count number of patients in each EDTimeGroup\n",
    "edtime_counts = df['EDTimeGroup'].value_counts()"
   ]
  },
  {
   "cell_type": "code",
   "execution_count": 7,
   "id": "38d5f872",
   "metadata": {},
   "outputs": [],
   "source": [
    "# Calculate median and IQR of Hospital LOS for each group\n",
    "los_stats = df.groupby('EDTimeGroup')['HospTime'].agg(['median', lambda x: np.percentile(x, 25), lambda x: np.percentile(x, 75)])\n",
    "los_stats.columns = ['Median', 'IQR_25', 'IQR_75']"
   ]
  },
  {
   "cell_type": "code",
   "execution_count": 8,
   "id": "d78179b6",
   "metadata": {},
   "outputs": [],
   "source": [
    "# Count number and percentage of deaths in each group\n",
    "death_counts = df.groupby('EDTimeGroup')['death'].value_counts().unstack().fillna(0)\n",
    "death_counts['% Mortality'] = death_counts[1] / (death_counts[0] + death_counts[1]) * 100"
   ]
  },
  {
   "cell_type": "code",
   "execution_count": 9,
   "id": "23439bb7",
   "metadata": {},
   "outputs": [],
   "source": [
    "# Test for significant differences in HospTime and mortality across groups using Kruskal-Wallis test\n",
    "hosp_time_p = stats.kruskal(*[group['HospTime'] for name, group in df.groupby('EDTimeGroup')]).pvalue\n",
    "mortality_p = stats.kruskal(*[group['death'] for name, group in df.groupby('EDTimeGroup')]).pvalue"
   ]
  },
  {
   "cell_type": "code",
   "execution_count": 39,
   "id": "d1ad0e1f",
   "metadata": {},
   "outputs": [
    {
     "data": {
      "text/plain": [
       "Index(['subject_id', 'hadm_id', 'stay_id', 'EDTime', 'HospTime', 'death',\n",
       "       'gender', 'WHITE', 'WHITE - RUSSIAN', 'WHITE - EASTERN EUROPEAN',\n",
       "       'WHITE - OTHER EUROPEAN', 'WHITE - BRAZILIAN', 'SOUTH AMERICAN',\n",
       "       'ASIAN', 'ASIAN - KOREAN', 'ASIAN - CHINESE',\n",
       "       'ASIAN - SOUTH EAST ASIAN', 'ASIAN - ASIAN INDIAN',\n",
       "       'AMERICAN INDIAN/ALASKA NATIVE',\n",
       "       'NATIVE HAWAIIAN OR OTHER PACIFIC ISLANDER', 'HISPANIC OR LATINO',\n",
       "       'HISPANIC/LATINO - GUATEMALAN', 'HISPANIC/LATINO - DOMINICAN',\n",
       "       'HISPANIC/LATINO - SALVADORAN', 'HISPANIC/LATINO - PUERTO RICAN',\n",
       "       'HISPANIC/LATINO - COLUMBIAN', 'HISPANIC/LATINO - HONDURAN',\n",
       "       'HISPANIC/LATINO - CENTRAL AMERICAN', 'HISPANIC/LATINO - CUBAN',\n",
       "       'HISPANIC/LATINO - MEXICAN', 'PORTUGUESE', 'BLACK/AFRICAN AMERICAN',\n",
       "       'BLACK/CAPE VERDEAN', 'BLACK/AFRICAN', 'BLACK/CARIBBEAN ISLAND',\n",
       "       'OTHER', 'UNKNOWN', 'UNABLE TO OBTAIN', 'PATIENT DECLINED TO ANSWER',\n",
       "       'hospital_expire_flag', 'BMI', 'weight', 'age', 'myocardial_infarction',\n",
       "       'congestive_heart_failure', 'peripheral_vascular_disease',\n",
       "       'cerebrovascular_disease', 'dementia', 'chronic_pulmonary_disease',\n",
       "       'rheumatic_disease', 'peptic_ulcer_disease', 'mild_liver_disease',\n",
       "       'diabetes_without_chronic_complication',\n",
       "       'diabetes_with_chronic_complication', 'hemiplegia_or_paraplegia',\n",
       "       'renal_disease', 'malignancy', 'moderate_or_severe_liver_disease',\n",
       "       'metastatic_solid_tumor', 'AIDSHIV', 'hypertension',\n",
       "       'diabetes_mellitus', 'log2_num_admissions', 'log2_num_ED',\n",
       "       'log2_num_ED_admissions', 'WBC', 'platelet', 'log2_CRP', 'glucose',\n",
       "       'glucose_bg', 'lactate', 'creatinine', 'bilirubin', 'po2/fio2', 'gcs',\n",
       "       'epinephrine', 'norepinephrine', 'dopamine', 'dobutamine',\n",
       "       'tracheostomy', 'IV', 'NIV', 'HFNC', 'supplemental_oxygen',\n",
       "       'temperature', 'heartrate', 'resprate', 'o2sat', 'sbp', 'dbp', 'qsofa',\n",
       "       'EDTimeGroup'],\n",
       "      dtype='object')"
      ]
     },
     "execution_count": 39,
     "metadata": {},
     "output_type": "execute_result"
    }
   ],
   "source": [
    "df.columns"
   ]
  },
  {
   "cell_type": "code",
   "execution_count": 11,
   "id": "972a2010",
   "metadata": {},
   "outputs": [
    {
     "name": "stdout",
     "output_type": "stream",
     "text": [
      "Table 2 Outcomes of patients according to length of stay in ED\n",
      "1287 patients had EDTime < 6 hours\n",
      "725 patients had 6-12 hours of EDTime\n",
      "118 patients had 12-24 hours of EDTime\n",
      "15 patients had EDTime > 24 hours\n",
      "\n",
      "Hospital LOS (median [IQR])\n",
      "                 Median     IQR_25      IQR_75\n",
      "EDTimeGroup                                   \n",
      "<6           163.783333  90.933333  266.383333\n",
      "6-12         139.116667  85.333333  243.433333\n",
      "12-24        153.150000  80.670833  285.058333\n",
      ">24           70.366667  58.016667  179.266667\n",
      "\n",
      "Mortality, n (%)\n",
      "death           0    1  % Mortality\n",
      "EDTimeGroup                        \n",
      "<6           1063  224    17.404817\n",
      "6-12          639   86    11.862069\n",
      "12-24         110    8     6.779661\n",
      ">24            12    3    20.000000\n"
     ]
    }
   ],
   "source": [
    "# Print results\n",
    "print('Table 2 Outcomes of patients according to length of stay in ED')\n",
    "print(f'{edtime_counts[\"<6\"]} patients had EDTime < 6 hours')\n",
    "print(f'{edtime_counts[\"6-12\"]} patients had 6-12 hours of EDTime')\n",
    "print(f'{edtime_counts[\"12-24\"]} patients had 12-24 hours of EDTime')\n",
    "print(f'{edtime_counts[\">24\"]} patients had EDTime > 24 hours\\n')\n",
    "print('Hospital LOS (median [IQR])')\n",
    "print(los_stats.to_string())\n",
    "print('\\nMortality, n (%)')\n",
    "print(death_counts.to_string())"
   ]
  },
  {
   "cell_type": "code",
   "execution_count": null,
   "id": "cad94593",
   "metadata": {},
   "outputs": [],
   "source": [
    "\n"
   ]
  },
  {
   "cell_type": "code",
   "execution_count": 19,
   "id": "26d332b9",
   "metadata": {},
   "outputs": [
    {
     "data": {
      "text/plain": [
       "0.018449134894641627"
      ]
     },
     "execution_count": 19,
     "metadata": {},
     "output_type": "execute_result"
    }
   ],
   "source": [
    "hosp_time_p"
   ]
  },
  {
   "cell_type": "code",
   "execution_count": 20,
   "id": "008db458",
   "metadata": {},
   "outputs": [
    {
     "data": {
      "text/plain": [
       "0.0004380153345445407"
      ]
     },
     "execution_count": 20,
     "metadata": {},
     "output_type": "execute_result"
    }
   ],
   "source": [
    "mortality_p"
   ]
  },
  {
   "cell_type": "code",
   "execution_count": null,
   "id": "5e435f31",
   "metadata": {},
   "outputs": [],
   "source": []
  },
  {
   "cell_type": "code",
   "execution_count": 21,
   "id": "33ed266d",
   "metadata": {},
   "outputs": [],
   "source": [
    "# Load the data \n",
    "df_org = pd.read_csv('sepsis.csv')"
   ]
  },
  {
   "cell_type": "code",
   "execution_count": 22,
   "id": "38e931c7",
   "metadata": {},
   "outputs": [
    {
     "data": {
      "text/plain": [
       "Index(['Outtime>Admittime', 'Dischtime  =/= Deathtime', 'First ED Time',\n",
       "       'First ED', 'Age Group', 'No', 'subject_id', 'hadm_id', 'stay_id',\n",
       "       'icu_stay_id',\n",
       "       ...\n",
       "       'creatinine', 'bilirubin', 'po2', 'fio2', 'fio2 or fio2_ce', 'po2/fio2',\n",
       "       'epinephrine.1', 'norepinephrine.1', 'dopamine.1', 'dobutamine.1'],\n",
       "      dtype='object', length=118)"
      ]
     },
     "execution_count": 22,
     "metadata": {},
     "output_type": "execute_result"
    }
   ],
   "source": [
    "df_org.columns"
   ]
  },
  {
   "cell_type": "code",
   "execution_count": 23,
   "id": "9e89ac45",
   "metadata": {},
   "outputs": [],
   "source": [
    "from datetime import datetime, timedelta\n",
    "df_org['28_day_mortality'] = (( pd.to_datetime(df_org['deathtime']) - pd.to_datetime(df_org['intime'])) <= timedelta(days=28)).astype(int)"
   ]
  },
  {
   "cell_type": "code",
   "execution_count": 26,
   "id": "5e3c5796",
   "metadata": {},
   "outputs": [],
   "source": [
    "# Merge df and df_org on subject_id, stay_id, and hadm_id\n",
    "merged_df = pd.merge(df, df_org[['subject_id', 'stay_id', 'hadm_id', '28_day_mortality']], \n",
    "                      on=['subject_id', 'stay_id', 'hadm_id'], \n",
    "                      how='left')\n",
    "# Rename the 28_day_mortality column to a more descriptive name\n",
    "merged_df = merged_df.rename(columns={'28_day_mortality': 'mortality_28d'})"
   ]
  },
  {
   "cell_type": "code",
   "execution_count": 27,
   "id": "0ee372c1",
   "metadata": {},
   "outputs": [
    {
     "data": {
      "text/plain": [
       "(2145, 93)"
      ]
     },
     "execution_count": 27,
     "metadata": {},
     "output_type": "execute_result"
    }
   ],
   "source": [
    "merged_df.shape"
   ]
  },
  {
   "cell_type": "code",
   "execution_count": 28,
   "id": "c0c7e3ea",
   "metadata": {},
   "outputs": [
    {
     "data": {
      "text/html": [
       "<div>\n",
       "<style scoped>\n",
       "    .dataframe tbody tr th:only-of-type {\n",
       "        vertical-align: middle;\n",
       "    }\n",
       "\n",
       "    .dataframe tbody tr th {\n",
       "        vertical-align: top;\n",
       "    }\n",
       "\n",
       "    .dataframe thead th {\n",
       "        text-align: right;\n",
       "    }\n",
       "</style>\n",
       "<table border=\"1\" class=\"dataframe\">\n",
       "  <thead>\n",
       "    <tr style=\"text-align: right;\">\n",
       "      <th></th>\n",
       "      <th>subject_id</th>\n",
       "      <th>hadm_id</th>\n",
       "      <th>stay_id</th>\n",
       "      <th>EDTime</th>\n",
       "      <th>HospTime</th>\n",
       "      <th>death</th>\n",
       "      <th>gender</th>\n",
       "      <th>WHITE</th>\n",
       "      <th>WHITE - RUSSIAN</th>\n",
       "      <th>WHITE - EASTERN EUROPEAN</th>\n",
       "      <th>...</th>\n",
       "      <th>supplemental_oxygen</th>\n",
       "      <th>temperature</th>\n",
       "      <th>heartrate</th>\n",
       "      <th>resprate</th>\n",
       "      <th>o2sat</th>\n",
       "      <th>sbp</th>\n",
       "      <th>dbp</th>\n",
       "      <th>qsofa</th>\n",
       "      <th>EDTimeGroup</th>\n",
       "      <th>mortality_28d</th>\n",
       "    </tr>\n",
       "  </thead>\n",
       "  <tbody>\n",
       "    <tr>\n",
       "      <th>0</th>\n",
       "      <td>10004322</td>\n",
       "      <td>20356134</td>\n",
       "      <td>36579193</td>\n",
       "      <td>6.116667</td>\n",
       "      <td>140.133333</td>\n",
       "      <td>0</td>\n",
       "      <td>0</td>\n",
       "      <td>1</td>\n",
       "      <td>0</td>\n",
       "      <td>0</td>\n",
       "      <td>...</td>\n",
       "      <td>0</td>\n",
       "      <td>37.277778</td>\n",
       "      <td>111.5</td>\n",
       "      <td>23.5</td>\n",
       "      <td>99.0</td>\n",
       "      <td>107.0</td>\n",
       "      <td>58.0</td>\n",
       "      <td>1</td>\n",
       "      <td>6-12</td>\n",
       "      <td>0</td>\n",
       "    </tr>\n",
       "    <tr>\n",
       "      <th>1</th>\n",
       "      <td>10014729</td>\n",
       "      <td>23300884</td>\n",
       "      <td>37887480</td>\n",
       "      <td>4.396389</td>\n",
       "      <td>212.650000</td>\n",
       "      <td>0</td>\n",
       "      <td>1</td>\n",
       "      <td>0</td>\n",
       "      <td>0</td>\n",
       "      <td>0</td>\n",
       "      <td>...</td>\n",
       "      <td>0</td>\n",
       "      <td>37.444444</td>\n",
       "      <td>119.5</td>\n",
       "      <td>22.0</td>\n",
       "      <td>100.0</td>\n",
       "      <td>115.0</td>\n",
       "      <td>65.0</td>\n",
       "      <td>1</td>\n",
       "      <td>&lt;6</td>\n",
       "      <td>0</td>\n",
       "    </tr>\n",
       "    <tr>\n",
       "      <th>2</th>\n",
       "      <td>10019003</td>\n",
       "      <td>29279905</td>\n",
       "      <td>31254712</td>\n",
       "      <td>4.883333</td>\n",
       "      <td>256.916667</td>\n",
       "      <td>0</td>\n",
       "      <td>1</td>\n",
       "      <td>1</td>\n",
       "      <td>0</td>\n",
       "      <td>0</td>\n",
       "      <td>...</td>\n",
       "      <td>1</td>\n",
       "      <td>36.944444</td>\n",
       "      <td>96.0</td>\n",
       "      <td>21.5</td>\n",
       "      <td>97.5</td>\n",
       "      <td>102.0</td>\n",
       "      <td>52.0</td>\n",
       "      <td>0</td>\n",
       "      <td>&lt;6</td>\n",
       "      <td>0</td>\n",
       "    </tr>\n",
       "    <tr>\n",
       "      <th>3</th>\n",
       "      <td>10020944</td>\n",
       "      <td>29974575</td>\n",
       "      <td>39738665</td>\n",
       "      <td>3.400000</td>\n",
       "      <td>337.450000</td>\n",
       "      <td>0</td>\n",
       "      <td>0</td>\n",
       "      <td>0</td>\n",
       "      <td>0</td>\n",
       "      <td>0</td>\n",
       "      <td>...</td>\n",
       "      <td>1</td>\n",
       "      <td>37.000000</td>\n",
       "      <td>80.0</td>\n",
       "      <td>14.0</td>\n",
       "      <td>97.5</td>\n",
       "      <td>105.0</td>\n",
       "      <td>70.0</td>\n",
       "      <td>0</td>\n",
       "      <td>&lt;6</td>\n",
       "      <td>0</td>\n",
       "    </tr>\n",
       "    <tr>\n",
       "      <th>4</th>\n",
       "      <td>10030753</td>\n",
       "      <td>21257920</td>\n",
       "      <td>39742415</td>\n",
       "      <td>4.933333</td>\n",
       "      <td>252.750000</td>\n",
       "      <td>0</td>\n",
       "      <td>1</td>\n",
       "      <td>1</td>\n",
       "      <td>0</td>\n",
       "      <td>0</td>\n",
       "      <td>...</td>\n",
       "      <td>1</td>\n",
       "      <td>38.500000</td>\n",
       "      <td>121.0</td>\n",
       "      <td>26.0</td>\n",
       "      <td>96.0</td>\n",
       "      <td>160.0</td>\n",
       "      <td>83.0</td>\n",
       "      <td>2</td>\n",
       "      <td>&lt;6</td>\n",
       "      <td>0</td>\n",
       "    </tr>\n",
       "  </tbody>\n",
       "</table>\n",
       "<p>5 rows × 93 columns</p>\n",
       "</div>"
      ],
      "text/plain": [
       "   subject_id   hadm_id   stay_id    EDTime    HospTime  death  gender  WHITE  \\\n",
       "0    10004322  20356134  36579193  6.116667  140.133333      0       0      1   \n",
       "1    10014729  23300884  37887480  4.396389  212.650000      0       1      0   \n",
       "2    10019003  29279905  31254712  4.883333  256.916667      0       1      1   \n",
       "3    10020944  29974575  39738665  3.400000  337.450000      0       0      0   \n",
       "4    10030753  21257920  39742415  4.933333  252.750000      0       1      1   \n",
       "\n",
       "   WHITE - RUSSIAN  WHITE - EASTERN EUROPEAN  ...  supplemental_oxygen  \\\n",
       "0                0                         0  ...                    0   \n",
       "1                0                         0  ...                    0   \n",
       "2                0                         0  ...                    1   \n",
       "3                0                         0  ...                    1   \n",
       "4                0                         0  ...                    1   \n",
       "\n",
       "   temperature  heartrate  resprate  o2sat    sbp   dbp  qsofa  EDTimeGroup  \\\n",
       "0    37.277778      111.5      23.5   99.0  107.0  58.0      1         6-12   \n",
       "1    37.444444      119.5      22.0  100.0  115.0  65.0      1           <6   \n",
       "2    36.944444       96.0      21.5   97.5  102.0  52.0      0           <6   \n",
       "3    37.000000       80.0      14.0   97.5  105.0  70.0      0           <6   \n",
       "4    38.500000      121.0      26.0   96.0  160.0  83.0      2           <6   \n",
       "\n",
       "   mortality_28d  \n",
       "0              0  \n",
       "1              0  \n",
       "2              0  \n",
       "3              0  \n",
       "4              0  \n",
       "\n",
       "[5 rows x 93 columns]"
      ]
     },
     "execution_count": 28,
     "metadata": {},
     "output_type": "execute_result"
    }
   ],
   "source": [
    "merged_df.head()"
   ]
  },
  {
   "cell_type": "code",
   "execution_count": 29,
   "id": "729b1ac0",
   "metadata": {},
   "outputs": [],
   "source": [
    "death_counts_28d = merged_df.groupby('EDTimeGroup')['mortality_28d'].value_counts().unstack().fillna(0)\n",
    "death_counts_28d['% Mortality'] = death_counts_28d[1] / (death_counts_28d[0] + death_counts_28d[1]) * 100"
   ]
  },
  {
   "cell_type": "code",
   "execution_count": 30,
   "id": "66cd834e",
   "metadata": {},
   "outputs": [],
   "source": [
    "death_counts_28d_p = stats.kruskal(*[group['mortality_28d'] for name, group in merged_df.groupby('EDTimeGroup')]).pvalue"
   ]
  },
  {
   "cell_type": "code",
   "execution_count": 31,
   "id": "7fedc179",
   "metadata": {},
   "outputs": [
    {
     "name": "stdout",
     "output_type": "stream",
     "text": [
      "\n",
      "28_day_mortality, n (%)\n",
      "mortality_28d     0    1  % Mortality\n",
      "EDTimeGroup                          \n",
      "<6             1070  217    16.860917\n",
      "6-12            639   86    11.862069\n",
      "12-24           112    6     5.084746\n",
      ">24              12    3    20.000000\n"
     ]
    }
   ],
   "source": [
    "print('\\n28_day_mortality, n (%)')\n",
    "print(death_counts_28d.to_string())"
   ]
  },
  {
   "cell_type": "code",
   "execution_count": 32,
   "id": "0999ec11",
   "metadata": {},
   "outputs": [
    {
     "data": {
      "text/plain": [
       "0.00033094507604277665"
      ]
     },
     "execution_count": 32,
     "metadata": {},
     "output_type": "execute_result"
    }
   ],
   "source": [
    "death_counts_28d_p"
   ]
  },
  {
   "cell_type": "code",
   "execution_count": 43,
   "id": "9b7fad68",
   "metadata": {},
   "outputs": [],
   "source": [
    "counts_iv = df.groupby('EDTimeGroup')['IV'].value_counts().unstack().fillna(0)\n",
    "counts_iv['% IV'] = counts_iv[1] / (counts_iv[0] + counts_iv[1]) * 100"
   ]
  },
  {
   "cell_type": "code",
   "execution_count": 44,
   "id": "66038c10",
   "metadata": {},
   "outputs": [],
   "source": [
    "IV_p = stats.kruskal(*[group['IV'] for name, group in df.groupby('EDTimeGroup')]).pvalue"
   ]
  },
  {
   "cell_type": "code",
   "execution_count": 46,
   "id": "9e852bfe",
   "metadata": {},
   "outputs": [
    {
     "name": "stdout",
     "output_type": "stream",
     "text": [
      "\n",
      "IV n (%)\n",
      "IV             0    1       % IV\n",
      "EDTimeGroup                     \n",
      "<6           854  433  33.644134\n",
      "6-12         597  128  17.655172\n",
      "12-24        100   18  15.254237\n",
      ">24           14    1   6.666667\n",
      "-----------------------\n",
      "1.4071133934279985e-15\n"
     ]
    }
   ],
   "source": [
    "print('\\nIV n (%)')\n",
    "print(counts_iv.to_string())\n",
    "print(\"-----------------------\")\n",
    "print(IV_p)"
   ]
  },
  {
   "cell_type": "code",
   "execution_count": null,
   "id": "7af3a4de",
   "metadata": {},
   "outputs": [],
   "source": []
  }
 ],
 "metadata": {
  "kernelspec": {
   "display_name": "Python 3 (ipykernel)",
   "language": "python",
   "name": "python3"
  },
  "language_info": {
   "codemirror_mode": {
    "name": "ipython",
    "version": 3
   },
   "file_extension": ".py",
   "mimetype": "text/x-python",
   "name": "python",
   "nbconvert_exporter": "python",
   "pygments_lexer": "ipython3",
   "version": "3.9.13"
  }
 },
 "nbformat": 4,
 "nbformat_minor": 5
}
