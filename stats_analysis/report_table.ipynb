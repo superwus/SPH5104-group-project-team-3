{
 "cells": [
  {
   "cell_type": "code",
   "execution_count": null,
   "id": "8e516d82",
   "metadata": {},
   "outputs": [],
   "source": [
    "import os\n",
    "import pandas as pd\n",
    "import numpy as np\n",
    "from scipy.stats import shapiro, ttest_ind, mannwhitneyu, chi2_contingency, fisher_exact\n",
    "from sklearn.experimental import enable_iterative_imputer\n",
    "from sklearn.impute import SimpleImputer, IterativeImputer\n",
    "from rpy2.robjects.packages import importr\n",
    "from rpy2.robjects import numpy2ri\n",
    "import matplotlib.pyplot as plt"
   ]
  },
  {
   "cell_type": "code",
   "execution_count": null,
   "id": "ca47942b",
   "metadata": {
    "scrolled": true
   },
   "outputs": [],
   "source": [
    "# Load the data \n",
    "df = pd.read_csv('sepsis_cleaned.csv')"
   ]
  },
  {
   "cell_type": "code",
   "execution_count": null,
   "id": "8034ddec",
   "metadata": {
    "scrolled": true
   },
   "outputs": [],
   "source": [
    "df.columns"
   ]
  },
  {
   "cell_type": "code",
   "execution_count": null,
   "id": "d81f45a5",
   "metadata": {},
   "outputs": [],
   "source": [
    "df['qsofa'] = df['qsofa'].apply(lambda x: 1 if x > 2 else 0)"
   ]
  },
  {
   "cell_type": "code",
   "execution_count": null,
   "id": "ef8cba4d",
   "metadata": {},
   "outputs": [],
   "source": [
    "# Create some combined variables for later use\n",
    "# create a new variable 'use of vasopressors'\n",
    "df['use_of_vasopressors'] = df[['epinephrine', 'norepinephrine', 'dopamine', 'dobutamine']].sum(axis=1)\n",
    "df['use_of_vasopressors'] = df['use_of_vasopressors'].apply(lambda x: 1 if x > 0 else 0)"
   ]
  },
  {
   "cell_type": "code",
   "execution_count": null,
   "id": "2a7a52d5",
   "metadata": {},
   "outputs": [],
   "source": [
    "# create a new variable 'Invasive ventilation'\n",
    "df['invasive_ventilation'] = df[['tracheostomy', 'IV']].sum(axis=1)\n",
    "df['invasive_ventilation'] = df['invasive_ventilation'].apply(lambda x: 1 if x > 0 else 0)\n",
    "\n",
    "# create a new variable 'Non invasive ventilation'\n",
    "df['non_invasive_ventilation'] = df[['NIV', 'HFNC']].sum(axis=1)\n",
    "df['non_invasive_ventilation'] = df['non_invasive_ventilation'].apply(lambda x: 1 if x > 0 else 0)"
   ]
  },
  {
   "cell_type": "code",
   "execution_count": null,
   "id": "ca7f92c9",
   "metadata": {},
   "outputs": [],
   "source": [
    "df['po2_fio2_geq'] = df['po2/fio2'].apply(lambda x: 1 if x > 450 else 0)\n",
    "df['gcs_geq'] = df['gcs'].apply(lambda x: 1 if x > 14 else 0)"
   ]
  },
  {
   "cell_type": "code",
   "execution_count": null,
   "id": "4e6ceb69",
   "metadata": {
    "scrolled": true
   },
   "outputs": [],
   "source": [
    "# Set display options to show all columns without truncation\n",
    "pd.set_option('display.max_columns', None)\n",
    "pd.set_option('display.max_colwidth', None)\n",
    "df.tail()"
   ]
  },
  {
   "cell_type": "code",
   "execution_count": null,
   "id": "78eb1b46",
   "metadata": {
    "scrolled": true
   },
   "outputs": [],
   "source": [
    "df.head()"
   ]
  },
  {
   "cell_type": "code",
   "execution_count": null,
   "id": "46e3e96e",
   "metadata": {},
   "outputs": [],
   "source": [
    "df.shape"
   ]
  },
  {
   "cell_type": "code",
   "execution_count": null,
   "id": "192d0afe",
   "metadata": {},
   "outputs": [],
   "source": [
    "survivors = df[df['death'] == 0]\n",
    "non_survivors = df[df['death'] == 1]"
   ]
  },
  {
   "cell_type": "code",
   "execution_count": null,
   "id": "ed301e13",
   "metadata": {},
   "outputs": [],
   "source": [
    "survivors.shape"
   ]
  },
  {
   "cell_type": "code",
   "execution_count": null,
   "id": "cf78b677",
   "metadata": {},
   "outputs": [],
   "source": [
    "non_survivors.shape"
   ]
  },
  {
   "cell_type": "code",
   "execution_count": null,
   "id": "e99c1da8",
   "metadata": {},
   "outputs": [],
   "source": []
  },
  {
   "cell_type": "code",
   "execution_count": null,
   "id": "322c4e69",
   "metadata": {},
   "outputs": [],
   "source": [
    "categorical_variables = [\n",
    "    'gender',\n",
    "    'myocardial_infarction', 'congestive_heart_failure', 'peripheral_vascular_disease',\n",
    "    'cerebrovascular_disease', 'dementia', 'chronic_pulmonary_disease',\n",
    "    'rheumatic_disease', 'peptic_ulcer_disease', 'mild_liver_disease',\n",
    "    'diabetes_without_chronic_complication', 'diabetes_with_chronic_complication',\n",
    "    'hemiplegia_or_paraplegia', 'renal_disease', 'malignancy',\n",
    "    'moderate_or_severe_liver_disease', 'metastatic_solid_tumor', 'AIDSHIV', 'hypertension',\n",
    "    'diabetes_mellitus', 'epinephrine', 'norepinephrine', 'dopamine', 'dobutamine', 'tracheostomy',\n",
    "    'IV', 'NIV', 'HFNC', 'supplemental_oxygen', 'gcs_geq', 'po2_fio2_geq', 'use_of_vasopressors',\n",
    "    'invasive_ventilation', 'non_invasive_ventilation', 'qsofa'\n",
    "]\n"
   ]
  },
  {
   "cell_type": "code",
   "execution_count": null,
   "id": "6c8cedc3",
   "metadata": {},
   "outputs": [],
   "source": [
    "numeric_variables = [\n",
    "    'BMI', 'temperature', 'heartrate', 'resprate', 'sbp', 'dbp',\n",
    "    'o2sat',  'age',\n",
    "    'WBC', 'platelet', 'log2_CRP', 'glucose', 'glucose_bg', 'lactate', 'creatinine', 'bilirubin'\n",
    "]"
   ]
  },
  {
   "cell_type": "code",
   "execution_count": null,
   "id": "ad42c614",
   "metadata": {},
   "outputs": [],
   "source": []
  },
  {
   "cell_type": "code",
   "execution_count": null,
   "id": "d000db29",
   "metadata": {},
   "outputs": [],
   "source": [
    "# Activate the automatic conversion from numpy to R arrays\n",
    "numpy2ri.activate()\n",
    "\n",
    "# Import the R \"stats\" package\n",
    "stats = importr('stats')\n",
    "\n",
    "def fisher_exact_test(table, workspace=1e6, simulate_p_value=True):\n",
    "    result = stats.fisher_test(table, workspace=float(workspace), simulate_p_value=bool(simulate_p_value))\n",
    "    p_value = result[0][0]\n",
    "    return p_value"
   ]
  },
  {
   "cell_type": "markdown",
   "id": "541c8f71",
   "metadata": {},
   "source": [
    "**Categorical variables** are expressed as the number and proportion, and compared by using the Χ2 test or Fisher’s exact test, as appropriate"
   ]
  },
  {
   "cell_type": "code",
   "execution_count": null,
   "id": "2a9594a8",
   "metadata": {},
   "outputs": [],
   "source": [
    "p_values = {} #store the p-values in a dictionary"
   ]
  },
  {
   "cell_type": "code",
   "execution_count": null,
   "id": "950345c2",
   "metadata": {},
   "outputs": [],
   "source": [
    "for variable in categorical_variables:\n",
    "    contingency_table = pd.crosstab(df['death'], df[variable])\n",
    "    stat, p, _, _ = chi2_contingency(contingency_table)\n",
    "    \n",
    "    if np.min(contingency_table.values) < 5:\n",
    "        p = fisher_exact_test(contingency_table.values, workspace=1e6, simulate_p_value=True)\n",
    "        print(f\"Fisher's exact test p-value for {variable}: {p:.5f}\")\n",
    "    else:\n",
    "        print(f\"Chi-squared test p-value for {variable}: {p:.5f}\")\n",
    "    \n",
    "    p_values[variable] = p"
   ]
  },
  {
   "cell_type": "code",
   "execution_count": null,
   "id": "2fa67f55",
   "metadata": {},
   "outputs": [],
   "source": [
    "# Filter predictor variables with p-value ≤ 0.05\n",
    "significant_predictors = [var for var, p_value in p_values.items() if p_value <= 0.05]\n",
    "print(\"\\nSignificant predictor variables (p-value ≤ 0.05):\")\n",
    "print(significant_predictors)"
   ]
  },
  {
   "cell_type": "code",
   "execution_count": null,
   "id": "14a69cd3",
   "metadata": {},
   "outputs": [],
   "source": [
    "results_cat_df = pd.DataFrame()\n",
    "\n",
    "# Loop through each categorical variable in your dataframe\n",
    "for col in categorical_variables:\n",
    "    \n",
    "    # Calculate the total number and proportion of 1's for this variable\n",
    "    total_count = df[col].value_counts().get(1, 0)\n",
    "    total_prop = total_count / len(df)\n",
    "    \n",
    "    # Calculate the number and proportion of 1's for survivors\n",
    "    survivor_count = df[df['death'] == 0][col].value_counts().get(1, 0)\n",
    "    survivor_prop = survivor_count / len(df[df['death'] == 0])\n",
    "    \n",
    "    # Calculate the number and proportion of 1's for non-survivors\n",
    "    nonsurvivor_count = df[df['death'] == 1][col].value_counts().get(1, 0)\n",
    "    nonsurvivor_prop = nonsurvivor_count / len(df[df['death'] == 1])\n",
    "    # Add the results to the new dataframe\n",
    "    results_cat_df.loc[col, 'Total Count'] = total_count\n",
    "    results_cat_df.loc[col, 'Total Proportion'] = total_prop*100\n",
    "    results_cat_df.loc[col, 'Survivor Count'] = survivor_count\n",
    "    results_cat_df.loc[col, 'Survivor Proportion'] = survivor_prop*100\n",
    "    results_cat_df.loc[col, 'Non-Survivor Count'] = nonsurvivor_count\n",
    "    results_cat_df.loc[col, 'Non-Survivor Proportion'] = nonsurvivor_prop*100\n",
    "    results_cat_df.loc[col, 'P value'] = p_values[col]\n",
    "    \n",
    "# Convert integer columns to int type\n",
    "int_cols = ['Total Count', 'Survivor Count', 'Non-Survivor Count']\n",
    "results_cat_df[int_cols] = results_cat_df[int_cols].astype(int)"
   ]
  },
  {
   "cell_type": "code",
   "execution_count": null,
   "id": "44f99819",
   "metadata": {},
   "outputs": [],
   "source": [
    "# Print the results dataframe\n",
    "results_cat_df.head()"
   ]
  },
  {
   "cell_type": "markdown",
   "id": "f58ab8e5",
   "metadata": {},
   "source": [
    "**Continuous variables** were tested for normality using the Shapiro-Wilk test. Normally, distributed data are expressed as means and SDs, and compared between survivors and non-survivors by using Student’s t-test. Non-normally distributed data are expressed as medians and IQRs, and compared using the Mann-Whitney test."
   ]
  },
  {
   "cell_type": "code",
   "execution_count": null,
   "id": "19c79ffa",
   "metadata": {},
   "outputs": [],
   "source": [
    "for col in numeric_variables:\n",
    "    fig, ax = plt.subplots(figsize=(8, 6))\n",
    "    # plot the histogram for overall\n",
    "    df[col].hist(ax=ax, label='Overall')\n",
    "    # plot the histogram for survivors\n",
    "    df[df['death'] == 0][col].hist(ax=ax, alpha=0.7, label='Survivors')\n",
    "    # plot the histogram for non-survivors\n",
    "    df[df['death'] == 1][col].hist(ax=ax, alpha=0.7, label='Non-Survivors')\n",
    "    ax.set_xlabel(col)\n",
    "    ax.set_ylabel('Frequency')\n",
    "    ax.legend()\n",
    "    #fig.savefig(f'{col}_histogram.png')\n",
    "    plt.show()\n"
   ]
  },
  {
   "cell_type": "code",
   "execution_count": null,
   "id": "e7276b63",
   "metadata": {},
   "outputs": [],
   "source": [
    "results_num_df = pd.DataFrame()\n",
    "\n",
    "\n",
    "def perform_statistical_tests(column):\n",
    "    # Check for normality using the Shapiro-Wilk test\n",
    "    stat, p_shapiro_survivors = shapiro(survivors[column])\n",
    "    stat, p_shapiro_non_survivors = shapiro(non_survivors[column])\n",
    "    \n",
    "    if p_shapiro_survivors > 0.05 and p_shapiro_non_survivors > 0.05:\n",
    "        # Normally distributed data: use Student's t-test\n",
    "        stat, p = ttest_ind(survivors[column], non_survivors[column])\n",
    "        print(f\"Student's t-test p-value for {column}: {p:.5f}\")\n",
    "    else:\n",
    "        # Non-normally distributed data: use Mann-Whitney test\n",
    "        stat, p = mannwhitneyu(survivors[column], non_survivors[column])\n",
    "        print(f\"Mann-Whitney test p-value for {column}: {p:.5f}\")\n",
    "    p_values[column] = p"
   ]
  },
  {
   "cell_type": "code",
   "execution_count": null,
   "id": "f458bd48",
   "metadata": {},
   "outputs": [],
   "source": []
  },
  {
   "cell_type": "code",
   "execution_count": null,
   "id": "06675e6d",
   "metadata": {},
   "outputs": [],
   "source": [
    "for variable in numeric_variables:\n",
    "    perform_statistical_tests(variable)"
   ]
  },
  {
   "cell_type": "code",
   "execution_count": null,
   "id": "c2ff3594",
   "metadata": {},
   "outputs": [],
   "source": [
    "# Filter predictor variables with p-value ≤ 0.05\n",
    "significant_predictors = [var for var, p_value in p_values.items() if p_value <= 0.05]\n",
    "print(\"\\nSignificant predictor variables (p-value ≤ 0.05):\")\n",
    "print(significant_predictors)"
   ]
  },
  {
   "cell_type": "code",
   "execution_count": null,
   "id": "fd9baa45",
   "metadata": {},
   "outputs": [],
   "source": [
    "\n",
    "for col in numeric_variables:\n",
    "    \n",
    "    # Calculate the median and IQR for this variable among all patients\n",
    "    overall_median = df[col].median()\n",
    "    # Calculate the 25th and 75th percentiles of the 'age' column\n",
    "    q1 = df[col].quantile(0.25)\n",
    "    q3 = df[col].quantile(0.75)\n",
    "\n",
    "    # Calculate the IQR of the 'age' column\n",
    "    overall_iqr = q3 - q1\n",
    "    \n",
    "    # Calculate the median and IQR for this variable among survivors (death=0)\n",
    "    survivor_median = df[df['death'] == 0][col].median()\n",
    "    survivor_q1 = df[df['death'] == 0][col].quantile(0.25)\n",
    "    survivor_q3 = df[df['death'] == 0][col].quantile(0.75)\n",
    "    survivor_iqr = survivor_q3 - survivor_q1\n",
    "    \n",
    "    \n",
    "    # Calculate the number and proportion of 1's for non-survivors\n",
    "    nonsurvivor_median = df[df['death'] == 1][col].median()\n",
    "    nonsurvivor_q1 = df[df['death'] == 1][col].quantile(0.25)\n",
    "    nonsurvivor_q3 = df[df['death'] == 1][col].quantile(0.75)\n",
    "    nonsurvivor_iqr = survivor_q3 - survivor_q1\n",
    "    \n",
    "    \n",
    "    # Add the results to the new dataframe\n",
    "    results_num_df.loc[col, 'Overall Median'] = overall_median\n",
    "    results_num_df.loc[col, 'Overall IQR'] = overall_iqr\n",
    "    results_num_df.loc[col, 'Survivor Median'] = survivor_median\n",
    "    results_num_df.loc[col, 'Survivor IQR'] = survivor_iqr\n",
    "    results_num_df.loc[col, 'Non-Survivor Median'] = nonsurvivor_median\n",
    "    results_num_df.loc[col, 'Non-Survivor IQR'] = nonsurvivor_iqr\n",
    "    results_num_df.loc[col, 'P value'] = p_values[col]"
   ]
  },
  {
   "cell_type": "code",
   "execution_count": null,
   "id": "a05bd16f",
   "metadata": {},
   "outputs": [],
   "source": [
    "results_num_df.head(5)"
   ]
  },
  {
   "cell_type": "code",
   "execution_count": null,
   "id": "df11dec6",
   "metadata": {},
   "outputs": [],
   "source": [
    "#Fix log2_CRP to CRP\n",
    "col =  'log2_CRP'\n",
    "results_num_df.loc[col, 'Overall Median'] = np.exp(overall_median * np.log(2))\n",
    "results_num_df.loc[col, 'Overall IQR'] = np.exp(overall_iqr * np.log(2))\n",
    "results_num_df.loc[col, 'Survivor Median'] = np.exp(survivor_median * np.log(2))\n",
    "results_num_df.loc[col, 'Survivor IQR'] = np.exp(survivor_iqr * np.log(2))\n",
    "results_num_df.loc[col, 'Non-Survivor Median'] = np.exp(nonsurvivor_median * np.log(2)) \n",
    "results_num_df.loc[col, 'Non-Survivor IQR'] = np.exp(nonsurvivor_iqr * np.log(2))\n",
    "df.rename(columns={col: 'CRP'}, inplace=True)"
   ]
  },
  {
   "cell_type": "markdown",
   "id": "d336f796",
   "metadata": {},
   "source": [
    "Add missing value percents to each variable"
   ]
  },
  {
   "cell_type": "code",
   "execution_count": null,
   "id": "e9b619e5",
   "metadata": {},
   "outputs": [],
   "source": [
    "# define the file path and column names\n",
    "file_path = 'sepsis.csv'"
   ]
  },
  {
   "cell_type": "code",
   "execution_count": null,
   "id": "5726d146",
   "metadata": {},
   "outputs": [],
   "source": [
    "cols = pd.DataFrame({'numbers': df.columns})\n"
   ]
  },
  {
   "cell_type": "code",
   "execution_count": null,
   "id": "19295840",
   "metadata": {},
   "outputs": [],
   "source": [
    "df2 = pd.read_csv(file_path)\n",
    "df2['use_of_vasopressors'] = df2[['epinephrine', 'norepinephrine', 'dopamine', 'dobutamine']].sum(axis=1, skipna=False)\n",
    "df2['use_of_vasopressors'] = df2['use_of_vasopressors'].apply(lambda x: 1 if pd.notna(x) and x > 0 else (0 if pd.notna(x) and x == 0 else np.nan))\n",
    "\n",
    "# create a new variable 'Invasive ventilation'\n",
    "df2['invasive_ventilation'] = df2[['tracheostomy', 'IV']].sum(axis=1, skipna=False)\n",
    "df2['invasive_ventilation'] = df2['invasive_ventilation'].apply(lambda x: 1 if pd.notna(x) and x > 0 else (0 if pd.notna(x) and x == 0 else np.nan))\n",
    "\n",
    "\n",
    "# create a new variable 'Non invasive ventilation'\n",
    "df2['non_invasive_ventilation'] = df2[['NIV', 'HFNC']].sum(axis=1, skipna=False)\n",
    "df2['non_invasive_ventilation'] = df2['non_invasive_ventilation'].apply(lambda x: 1 if pd.notna(x) and x > 0 else (0 if pd.notna(x) and x == 0 else np.nan))\n",
    "\n",
    "# create a new variable 'Non invasive ventilation'\n",
    "df2['qsofa'] = df2[['resprate_first', 'gcs', 'sbp_first']].sum(axis=1, skipna=False)\n",
    "df2['qsofa'] = df2['qsofa'].apply(lambda x: 1 if pd.notna(x) and x > 0 else (0 if pd.notna(x) and x == 0 else np.nan))\n"
   ]
  },
  {
   "cell_type": "code",
   "execution_count": null,
   "id": "40554c9c",
   "metadata": {},
   "outputs": [],
   "source": []
  },
  {
   "cell_type": "code",
   "execution_count": null,
   "id": "48320baf",
   "metadata": {},
   "outputs": [],
   "source": [
    "# compute the missing value percentages for the categorical variables\n",
    "cat_missing_perc = []\n",
    "for var in categorical_variables:\n",
    "    if var == 'po2_fio2_geq':\n",
    "        var = 'po2/fio2'\n",
    "    if var == 'gcs_geq':\n",
    "        var = 'gcs'\n",
    "    cat_missing_perc.append(df2[var].isna().mean())\n"
   ]
  },
  {
   "cell_type": "code",
   "execution_count": null,
   "id": "0658f3c6",
   "metadata": {},
   "outputs": [],
   "source": [
    "len(cat_missing_perc)"
   ]
  },
  {
   "cell_type": "code",
   "execution_count": null,
   "id": "2c4480eb",
   "metadata": {},
   "outputs": [],
   "source": [
    "results_cat_df['missing data'] = cat_missing_perc"
   ]
  },
  {
   "cell_type": "code",
   "execution_count": null,
   "id": "e3070fa7",
   "metadata": {},
   "outputs": [],
   "source": [
    "numeric_variables_modified = [\n",
    "    'BMI', 'temperature_first', 'heartrate_first', 'resprate_first', 'sbp_first', 'dbp_first',\n",
    "    'o2sat_first', 'age',\n",
    "    'WBC_ED', 'platelet_ED', 'CRP', 'glucose_ED', 'glucose_bg_ED', 'lactate_ED', 'creatinine_ED', 'bilirubin_ED'\n",
    "]\n",
    "\n",
    "# compute the missing value percentages for the numeric variables\n",
    "num_missing_perc = [df2[var].isna().mean() for var in numeric_variables_modified]"
   ]
  },
  {
   "cell_type": "code",
   "execution_count": null,
   "id": "0e607a11",
   "metadata": {},
   "outputs": [],
   "source": [
    "num_missing_perc"
   ]
  },
  {
   "cell_type": "code",
   "execution_count": null,
   "id": "6348b96e",
   "metadata": {},
   "outputs": [],
   "source": [
    "results_num_df['missing data'] = num_missing_perc"
   ]
  },
  {
   "cell_type": "code",
   "execution_count": null,
   "id": "67ba6fcc",
   "metadata": {},
   "outputs": [],
   "source": [
    " \n",
    "writer = pd.ExcelWriter('results.xlsx')\n",
    "\n",
    "# Write the results_num_df dataframe to the 'Numeric Results' sheet\n",
    "results_num_df.to_excel(writer, sheet_name='Numeric Results')\n",
    "\n",
    "# Write the results_cat_df dataframe to the 'Categorical Results' sheet\n",
    "results_cat_df.to_excel(writer, sheet_name='Categorical Results')\n",
    "\n",
    "# Save the Excel file\n",
    "writer.save()"
   ]
  },
  {
   "cell_type": "code",
   "execution_count": null,
   "id": "2f2c88a8",
   "metadata": {},
   "outputs": [],
   "source": []
  },
  {
   "cell_type": "code",
   "execution_count": null,
   "id": "4028be40",
   "metadata": {},
   "outputs": [],
   "source": [
    "import statsmodels.api as sm"
   ]
  },
  {
   "cell_type": "code",
   "execution_count": null,
   "id": "c6fd9377",
   "metadata": {},
   "outputs": [],
   "source": [
    "variables_sig = ['myocardial_infarction', 'cerebrovascular_disease', \n",
    " 'diabetes_with_chronic_complication', 'malignancy', \n",
    "                 'metastatic_solid_tumor',  \n",
    "                 'invasive_ventilation', 'temperature', 'heartrate',\n",
    "                  'qsofa', 'age']"
   ]
  },
  {
   "cell_type": "code",
   "execution_count": null,
   "id": "225fc92b",
   "metadata": {},
   "outputs": [],
   "source": [
    "variables_domain = ['lactate' ,'diabetes_without_chronic_complication',\n",
    "                    'moderate_or_severe_liver_disease', 'renal_disease',\n",
    "                    'creatinine','use_of_vasopressors']"
   ]
  },
  {
   "cell_type": "code",
   "execution_count": null,
   "id": "cb7e8a20",
   "metadata": {},
   "outputs": [],
   "source": [
    "df['EDTime'] = df['EDTime'] * 24"
   ]
  },
  {
   "cell_type": "code",
   "execution_count": null,
   "id": "8ab91fdd",
   "metadata": {},
   "outputs": [],
   "source": [
    "# create new variables for each category of EDTime\n",
    "df['EDTime_3'] = (df['EDTime'] < 3).astype(int)\n",
    "df['EDTime_6'] = (df['EDTime'] < 6).astype(int)\n",
    "df['EDTime_12'] = (df['EDTime'] < 12).astype(int)\n",
    "df['EDTime_24'] = (df['EDTime'] < 24).astype(int)"
   ]
  },
  {
   "cell_type": "code",
   "execution_count": null,
   "id": "2a7a35d7",
   "metadata": {},
   "outputs": [],
   "source": [
    "# create a list of all variables to include in the model\n",
    "#variables = variables_sig + variables_domain + ['EDTime', 'WHITE', 'congestive_heart_failure']"
   ]
  },
  {
   "cell_type": "code",
   "execution_count": null,
   "id": "6a79e4a2",
   "metadata": {},
   "outputs": [],
   "source": [
    "var = [ 'BMI', 'weight', 'age', 'myocardial_infarction',\n",
    "       'congestive_heart_failure', 'peripheral_vascular_disease',\n",
    "       'cerebrovascular_disease', 'dementia', 'chronic_pulmonary_disease',\n",
    "       'rheumatic_disease', 'peptic_ulcer_disease', 'mild_liver_disease',\n",
    "       'diabetes_without_chronic_complication',\n",
    "       'diabetes_with_chronic_complication', 'hemiplegia_or_paraplegia',\n",
    "       'renal_disease', 'malignancy', 'moderate_or_severe_liver_disease',\n",
    "       'metastatic_solid_tumor', 'AIDSHIV', 'hypertension',\n",
    "       'diabetes_mellitus', 'log2_num_admissions', 'log2_num_ED',\n",
    "       'log2_num_ED_admissions', 'WBC', 'platelet', 'CRP', 'glucose',\n",
    "       'glucose_bg', 'lactate', 'creatinine', 'bilirubin', 'po2_fio2_geq', 'gcs_geq',\n",
    "       'epinephrine', 'norepinephrine', 'dopamine', 'dobutamine',\n",
    "       'tracheostomy', 'IV', 'NIV', 'HFNC', 'supplemental_oxygen',\n",
    "       'temperature', 'heartrate', 'resprate', 'o2sat', 'sbp', 'dbp', 'qsofa', 'use_of_vasopressors',\n",
    "       'invasive_ventilation', 'non_invasive_ventilation'\n",
    "       ]"
   ]
  },
  {
   "cell_type": "code",
   "execution_count": null,
   "id": "06030f04",
   "metadata": {},
   "outputs": [],
   "source": [
    "time_list = ['EDTime_3','EDTime_6', 'EDTime_12','EDTime_24']\n",
    "or_dfs = []"
   ]
  },
  {
   "cell_type": "code",
   "execution_count": null,
   "id": "8de94e66",
   "metadata": {},
   "outputs": [],
   "source": [
    "time_list = ['EDTime']"
   ]
  },
  {
   "cell_type": "code",
   "execution_count": null,
   "id": "dd9473a8",
   "metadata": {},
   "outputs": [],
   "source": [
    "from sklearn.preprocessing import StandardScaler\n",
    "\n",
    "\n",
    "var_use = var + [time_range]\n",
    "\n",
    "for time_range in time_list:\n",
    "    \n",
    "    X = df[var_use]\n",
    "    scaler = StandardScaler()\n",
    "    X_STD = scaler.fit_transform(X)\n",
    "    # fit a logistic regression model with all variables\n",
    "    X_STD = sm.add_constant(X_STD)\n",
    "    y = df['death']\n",
    "    logit_model = sm.Logit(y, X_STD)\n",
    "    result = logit_model.fit(maxiter=100)\n",
    "    \n",
    "    # calculate adjusted odds ratios for each variable\n",
    "    ORs = np.exp(result.params)\n",
    "    CI = np.exp(result.conf_int(alpha=0.01))\n",
    "    CI.columns = ['OR_lower', 'OR_upper']\n",
    "    ORs = pd.concat([ORs, CI], axis=1)\n",
    "    ORs.columns = ['OR', 'OR_lower', 'OR_upper']\n",
    "    ORs.drop('const', inplace=True)\n",
    "    #ORs = ORs.loc[var_use]\n",
    "    or_dfs.append(ORs)\n",
    "    \n",
    "\n",
    "    print(ORs)"
   ]
  },
  {
   "cell_type": "code",
   "execution_count": null,
   "id": "893d9d2d",
   "metadata": {},
   "outputs": [],
   "source": [
    "var_use_df = pd.DataFrame(var_use, columns=['Variable'])\n"
   ]
  },
  {
   "cell_type": "code",
   "execution_count": null,
   "id": "a3b30018",
   "metadata": {},
   "outputs": [],
   "source": [
    "filename = 'odds_ratios_final.xlsx'\n",
    "with pd.ExcelWriter(filename) as writer:\n",
    "    or_dfs[0].to_excel(writer, sheet_name='Sheet1', index=False)\n",
    "    var_use_df.to_excel(writer, sheet_name='Sheet2', index=False)\n"
   ]
  },
  {
   "cell_type": "code",
   "execution_count": null,
   "id": "7acb92ed",
   "metadata": {},
   "outputs": [],
   "source": [
    "# Write the list of DataFrames to a single Excel file with separate sheets\n",
    "with pd.ExcelWriter('odds_ratios_final.xlsx') as writer:\n",
    "    for i, df_or in enumerate(or_dfs):\n",
    "        df_or.to_excel(writer, sheet_name=time_list[i])"
   ]
  },
  {
   "cell_type": "code",
   "execution_count": null,
   "id": "2b2702db",
   "metadata": {},
   "outputs": [],
   "source": [
    "or_file = pd.DataFrame(ORs)\n",
    "\n",
    "# Save the DataFrame to an Excel file\n",
    "or_file.to_excel('or_file_new_group.xlsx', index=True)"
   ]
  },
  {
   "cell_type": "code",
   "execution_count": null,
   "id": "40a7d6bf",
   "metadata": {},
   "outputs": [],
   "source": [
    "# Create the plot\n",
    "import seaborn as sns\n",
    "plt.figure(figsize=(10, 6))\n",
    "sns.regplot(x='EDTime', y='death', data=df, logistic=True, ci=95, scatter=False, line_kws={'color': 'red', 'label': 'Fitted Line'})\n",
    "#plt.fill_between(df_sorted['EDTime'], lower_conf_int[0], upper_conf_int[0], color='gray', alpha=0.3, label=\"95% CI\")\n",
    "plt.xlabel('Length of Stay in ED')\n",
    "plt.ylabel('Adjusted Probability of Hospital Mortality')\n",
    "plt.title('Adjusted Probability of Hospital Mortality vs. Length of Stay in ED')\n",
    "plt.legend()\n",
    "plt.show()"
   ]
  },
  {
   "cell_type": "code",
   "execution_count": null,
   "id": "332ec75c",
   "metadata": {},
   "outputs": [],
   "source": []
  }
 ],
 "metadata": {
  "kernelspec": {
   "display_name": "Python 3 (ipykernel)",
   "language": "python",
   "name": "python3"
  },
  "language_info": {
   "codemirror_mode": {
    "name": "ipython",
    "version": 3
   },
   "file_extension": ".py",
   "mimetype": "text/x-python",
   "name": "python",
   "nbconvert_exporter": "python",
   "pygments_lexer": "ipython3",
   "version": "3.9.13"
  }
 },
 "nbformat": 4,
 "nbformat_minor": 5
}
