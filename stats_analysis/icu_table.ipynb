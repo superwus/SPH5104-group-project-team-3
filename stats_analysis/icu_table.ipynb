{
 "cells": [
  {
   "cell_type": "code",
   "execution_count": null,
   "id": "73312cf7",
   "metadata": {},
   "outputs": [],
   "source": [
    "import os\n",
    "import pandas as pd\n",
    "import numpy as np\n",
    "from scipy.stats import shapiro, ttest_ind, mannwhitneyu, chi2_contingency, fisher_exact\n",
    "from sklearn.experimental import enable_iterative_imputer\n",
    "from sklearn.impute import SimpleImputer, IterativeImputer\n",
    "from rpy2.robjects.packages import importr\n",
    "from rpy2.robjects import numpy2ri\n",
    "import matplotlib.pyplot as plt\n",
    "import statsmodels.api as sm\n"
   ]
  },
  {
   "cell_type": "code",
   "execution_count": null,
   "id": "bfb288bf",
   "metadata": {},
   "outputs": [],
   "source": [
    "# Load the data \n",
    "df = pd.read_csv('has_icu_stay.csv')"
   ]
  },
  {
   "cell_type": "code",
   "execution_count": null,
   "id": "6ee35e4e",
   "metadata": {},
   "outputs": [],
   "source": [
    "df.shape"
   ]
  },
  {
   "cell_type": "code",
   "execution_count": null,
   "id": "6f83a7b4",
   "metadata": {},
   "outputs": [],
   "source": [
    "pd.set_option('display.max_columns', None)\n",
    "pd.set_option('display.max_colwidth', None)\n",
    "df.tail()"
   ]
  },
  {
   "cell_type": "code",
   "execution_count": null,
   "id": "91486f73",
   "metadata": {},
   "outputs": [],
   "source": [
    "survivors = df[df['death'] == 0]\n",
    "non_survivors = df[df['death'] == 1]"
   ]
  },
  {
   "cell_type": "code",
   "execution_count": null,
   "id": "338946bc",
   "metadata": {},
   "outputs": [],
   "source": [
    "categorical_variables = [\n",
    "    'gender',\n",
    "    'myocardial_infarction', 'congestive_heart_failure', 'peripheral_vascular_disease',\n",
    "    'cerebrovascular_disease', 'dementia', 'chronic_pulmonary_disease',\n",
    "    'rheumatic_disease', 'peptic_ulcer_disease', 'mild_liver_disease',\n",
    "    'diabetes_without_chronic_complication', 'diabetes_with_chronic_complication',\n",
    "    'hemiplegia_or_paraplegia', 'renal_disease', 'malignancy',\n",
    "    'moderate_or_severe_liver_disease', 'metastatic_solid_tumor', 'AIDSHIV', 'hypertension',\n",
    "    'diabetes_mellitus', 'epinephrine', 'norepinephrine', 'dopamine', 'dobutamine', 'tracheostomy',\n",
    "    'IV', 'NIV', 'HFNC', 'supplemental_oxygen', 'gcs_geq', 'po2_fio2_geq', 'use_of_vasopressors',\n",
    "    'invasive_ventilation', 'non_invasive_ventilation', 'qsofa'\n",
    "]\n"
   ]
  },
  {
   "cell_type": "code",
   "execution_count": null,
   "id": "cfc95af1",
   "metadata": {},
   "outputs": [],
   "source": [
    "numeric_variables = [\n",
    "    'BMI', 'temperature', 'heartrate', 'resprate', 'sbp', 'dbp',\n",
    "    'o2sat',  'age',\n",
    "    'WBC', 'platelet', 'log2_CRP', 'glucose', 'glucose_bg', 'lactate', 'creatinine', 'bilirubin'\n",
    "]"
   ]
  },
  {
   "cell_type": "code",
   "execution_count": null,
   "id": "b8f0777a",
   "metadata": {},
   "outputs": [],
   "source": [
    "# Activate the automatic conversion from numpy to R arrays\n",
    "numpy2ri.activate()\n",
    "\n",
    "# Import the R \"stats\" package\n",
    "stats = importr('stats')\n",
    "\n",
    "def fisher_exact_test(table, workspace=1e6, simulate_p_value=True):\n",
    "    result = stats.fisher_test(table, workspace=float(workspace), simulate_p_value=bool(simulate_p_value))\n",
    "    p_value = result[0][0]\n",
    "    return p_value"
   ]
  },
  {
   "cell_type": "code",
   "execution_count": null,
   "id": "89ecb8cc",
   "metadata": {},
   "outputs": [],
   "source": [
    "p_values = {} #store the p-values in a dictionary"
   ]
  },
  {
   "cell_type": "code",
   "execution_count": null,
   "id": "c79034b2",
   "metadata": {},
   "outputs": [],
   "source": [
    "for variable in categorical_variables:\n",
    "    contingency_table = pd.crosstab(df['death'], df[variable])\n",
    "    stat, p, _, _ = chi2_contingency(contingency_table)\n",
    "    \n",
    "    if np.min(contingency_table.values) < 5:\n",
    "        p = fisher_exact_test(contingency_table.values, workspace=1e6, simulate_p_value=True)\n",
    "        print(f\"Fisher's exact test p-value for {variable}: {p:.5f}\")\n",
    "    else:\n",
    "        print(f\"Chi-squared test p-value for {variable}: {p:.5f}\")\n",
    "    \n",
    "    p_values[variable] = p"
   ]
  },
  {
   "cell_type": "code",
   "execution_count": null,
   "id": "b1a82f18",
   "metadata": {},
   "outputs": [],
   "source": [
    "results_cat_df = pd.DataFrame()\n",
    "\n",
    "# Loop through each categorical variable in your dataframe\n",
    "for col in categorical_variables:\n",
    "    \n",
    "    # Calculate the total number and proportion of 1's for this variable\n",
    "    total_count = df[col].value_counts().get(1, 0)\n",
    "    total_prop = total_count / len(df)\n",
    "    \n",
    "    # Calculate the number and proportion of 1's for survivors\n",
    "    survivor_count = df[df['death'] == 0][col].value_counts().get(1, 0)\n",
    "    survivor_prop = survivor_count / len(df[df['death'] == 0])\n",
    "    \n",
    "    # Calculate the number and proportion of 1's for non-survivors\n",
    "    nonsurvivor_count = df[df['death'] == 1][col].value_counts().get(1, 0)\n",
    "    nonsurvivor_prop = nonsurvivor_count / len(df[df['death'] == 1])\n",
    "    # Add the results to the new dataframe\n",
    "    results_cat_df.loc[col, 'Total Count'] = total_count\n",
    "    results_cat_df.loc[col, 'Total Proportion'] = total_prop*100\n",
    "    results_cat_df.loc[col, 'Survivor Count'] = survivor_count\n",
    "    results_cat_df.loc[col, 'Survivor Proportion'] = survivor_prop*100\n",
    "    results_cat_df.loc[col, 'Non-Survivor Count'] = nonsurvivor_count\n",
    "    results_cat_df.loc[col, 'Non-Survivor Proportion'] = nonsurvivor_prop*100\n",
    "    results_cat_df.loc[col, 'P value'] = p_values[col]\n",
    "    \n",
    "# Convert integer columns to int type\n",
    "int_cols = ['Total Count', 'Survivor Count', 'Non-Survivor Count']\n",
    "results_cat_df[int_cols] = results_cat_df[int_cols].astype(int)"
   ]
  },
  {
   "cell_type": "code",
   "execution_count": null,
   "id": "0a0baefb",
   "metadata": {},
   "outputs": [],
   "source": []
  },
  {
   "cell_type": "code",
   "execution_count": null,
   "id": "81298a2c",
   "metadata": {},
   "outputs": [],
   "source": [
    "for col in numeric_variables:\n",
    "    fig, ax = plt.subplots(figsize=(8, 6))\n",
    "    # plot the histogram for overall\n",
    "    df[col].hist(ax=ax, label='Overall')\n",
    "    # plot the histogram for survivors\n",
    "    df[df['death'] == 0][col].hist(ax=ax, alpha=0.7, label='Survivors')\n",
    "    # plot the histogram for non-survivors\n",
    "    df[df['death'] == 1][col].hist(ax=ax, alpha=0.7, label='Non-Survivors')\n",
    "    ax.set_xlabel(col)\n",
    "    ax.set_ylabel('Frequency')\n",
    "    ax.legend()\n",
    "    fig.savefig(f'no_icu_{col}_histogram.png')\n",
    "    plt.show()"
   ]
  },
  {
   "cell_type": "code",
   "execution_count": null,
   "id": "6a59b4b0",
   "metadata": {},
   "outputs": [],
   "source": [
    "results_num_df = pd.DataFrame()\n",
    "\n",
    "\n",
    "def perform_statistical_tests(column):\n",
    "    # Check for normality using the Shapiro-Wilk test\n",
    "    stat, p_shapiro_survivors = shapiro(survivors[column])\n",
    "    stat, p_shapiro_non_survivors = shapiro(non_survivors[column])\n",
    "    \n",
    "    if p_shapiro_survivors > 0.05 and p_shapiro_non_survivors > 0.05:\n",
    "        # Normally distributed data: use Student's t-test\n",
    "        stat, p = ttest_ind(survivors[column], non_survivors[column])\n",
    "        print(f\"Student's t-test p-value for {column}: {p:.5f}\")\n",
    "    else:\n",
    "        # Non-normally distributed data: use Mann-Whitney test\n",
    "        stat, p = mannwhitneyu(survivors[column], non_survivors[column])\n",
    "        print(f\"Mann-Whitney test p-value for {column}: {p:.5f}\")\n",
    "    p_values[column] = p"
   ]
  },
  {
   "cell_type": "code",
   "execution_count": null,
   "id": "f9d24a29",
   "metadata": {},
   "outputs": [],
   "source": [
    "for variable in numeric_variables:\n",
    "    perform_statistical_tests(variable)"
   ]
  },
  {
   "cell_type": "code",
   "execution_count": null,
   "id": "7462f3fc",
   "metadata": {},
   "outputs": [],
   "source": [
    "# Filter predictor variables with p-value ≤ 0.05\n",
    "significant_predictors = [var for var, p_value in p_values.items() if p_value <= 0.05]\n",
    "print(\"\\nSignificant predictor variables (p-value ≤ 0.05):\")\n",
    "print(significant_predictors)"
   ]
  },
  {
   "cell_type": "code",
   "execution_count": null,
   "id": "7697e75f",
   "metadata": {},
   "outputs": [],
   "source": [
    "\n",
    "for col in numeric_variables:\n",
    "    \n",
    "    # Calculate the median and IQR for this variable among all patients\n",
    "    overall_median = df[col].median()\n",
    "    # Calculate the 25th and 75th percentiles of the 'age' column\n",
    "    q1 = df[col].quantile(0.25)\n",
    "    q3 = df[col].quantile(0.75)\n",
    "\n",
    "    # Calculate the IQR of the 'age' column\n",
    "    overall_iqr = q3 - q1\n",
    "    \n",
    "    # Calculate the median and IQR for this variable among survivors (death=0)\n",
    "    survivor_median = df[df['death'] == 0][col].median()\n",
    "    survivor_q1 = df[df['death'] == 0][col].quantile(0.25)\n",
    "    survivor_q3 = df[df['death'] == 0][col].quantile(0.75)\n",
    "    survivor_iqr = survivor_q3 - survivor_q1\n",
    "    \n",
    "    \n",
    "    # Calculate the number and proportion of 1's for non-survivors\n",
    "    nonsurvivor_median = df[df['death'] == 1][col].median()\n",
    "    nonsurvivor_q1 = df[df['death'] == 1][col].quantile(0.25)\n",
    "    nonsurvivor_q3 = df[df['death'] == 1][col].quantile(0.75)\n",
    "    nonsurvivor_iqr = survivor_q3 - survivor_q1\n",
    "    \n",
    "    \n",
    "    # Add the results to the new dataframe\n",
    "    results_num_df.loc[col, 'Overall Median'] = overall_median\n",
    "    results_num_df.loc[col, 'Overall IQR'] = overall_iqr\n",
    "    results_num_df.loc[col, 'Survivor Median'] = survivor_median\n",
    "    results_num_df.loc[col, 'Survivor IQR'] = survivor_iqr\n",
    "    results_num_df.loc[col, 'Non-Survivor Median'] = nonsurvivor_median\n",
    "    results_num_df.loc[col, 'Non-Survivor IQR'] = nonsurvivor_iqr\n",
    "    results_num_df.loc[col, 'P value'] = p_values[col]"
   ]
  },
  {
   "cell_type": "code",
   "execution_count": null,
   "id": "c0dad7f1",
   "metadata": {},
   "outputs": [],
   "source": []
  },
  {
   "cell_type": "code",
   "execution_count": null,
   "id": "581bd099",
   "metadata": {},
   "outputs": [],
   "source": [
    "time_list = ['EDTime']\n",
    "or_dfs = []"
   ]
  },
  {
   "cell_type": "code",
   "execution_count": null,
   "id": "5b4b70f3",
   "metadata": {},
   "outputs": [],
   "source": [
    "from sklearn.preprocessing import StandardScaler\n",
    "\n",
    "\n",
    "var_use = significant_predictors + time_list\n",
    "\n",
    "for time_range in time_list:\n",
    "    \n",
    "    X = df[var_use]\n",
    "    scaler = StandardScaler()\n",
    "    X_STD = scaler.fit_transform(X)\n",
    "    # fit a logistic regression model with all variables\n",
    "    X_STD = sm.add_constant(X_STD)\n",
    "    y = df['death']\n",
    "    logit_model = sm.Logit(y, X_STD)\n",
    "    result = logit_model.fit(maxiter=100)\n",
    "    \n",
    "    # calculate adjusted odds ratios for each variable\n",
    "    ORs = np.exp(result.params)\n",
    "    CI = np.exp(result.conf_int(alpha=0.01))\n",
    "    CI.columns = ['OR_lower', 'OR_upper']\n",
    "    ORs = pd.concat([ORs, CI], axis=1)\n",
    "    ORs.columns = ['OR', 'OR_lower', 'OR_upper']\n",
    "    ORs.drop('const', inplace=True)\n",
    "    #ORs = ORs.loc[var_use]\n",
    "    or_dfs.append(ORs)\n",
    "    \n",
    "\n",
    "    print(ORs)"
   ]
  },
  {
   "cell_type": "code",
   "execution_count": null,
   "id": "aed1754a",
   "metadata": {},
   "outputs": [],
   "source": [
    "var_use_df = pd.DataFrame(var_use, columns=['Variable'])"
   ]
  },
  {
   "cell_type": "code",
   "execution_count": null,
   "id": "87881507",
   "metadata": {},
   "outputs": [],
   "source": [
    "filename = 'odds_ratios_no_icu.xlsx'\n",
    "with pd.ExcelWriter(filename) as writer:\n",
    "    or_dfs[0].to_excel(writer, sheet_name='OR', index=False)\n",
    "    var_use_df.to_excel(writer, sheet_name='Sheet2', index=False)\n",
    "    results_cat_df.to_excel(writer, sheet_name='CAT', index=True)\n",
    "    results_num_df.to_excel(writer, sheet_name='NUM', index=True)"
   ]
  },
  {
   "cell_type": "markdown",
   "id": "10a202fb",
   "metadata": {},
   "source": [
    "## FOR TABLE 2"
   ]
  },
  {
   "cell_type": "code",
   "execution_count": null,
   "id": "60c0c8e3",
   "metadata": {},
   "outputs": [],
   "source": [
    "# Convert EDTime and HospTime to hours\n",
    "df['EDTime'] = df['EDTime'] * 24\n",
    "df['HospTime'] = df['HospTime'] * 24\n"
   ]
  },
  {
   "cell_type": "code",
   "execution_count": null,
   "id": "10055382",
   "metadata": {},
   "outputs": [],
   "source": [
    "# Divide data into groups based on EDTime\n",
    "df['EDTimeGroup'] = pd.cut(df['EDTime'], [0, 6, 12, 24, np.inf], labels=['<6', '6-12', '12-24', '>24'])"
   ]
  },
  {
   "cell_type": "code",
   "execution_count": null,
   "id": "1853ced1",
   "metadata": {},
   "outputs": [],
   "source": [
    "# Count number of patients in each EDTimeGroup\n",
    "edtime_counts = df['EDTimeGroup'].value_counts()"
   ]
  },
  {
   "cell_type": "code",
   "execution_count": null,
   "id": "9257f975",
   "metadata": {},
   "outputs": [],
   "source": [
    "# Calculate median and IQR of Hospital LOS for each group\n",
    "los_stats = df.groupby('EDTimeGroup')['HospTime'].agg(['median', lambda x: np.percentile(x, 25), lambda x: np.percentile(x, 75)])\n",
    "los_stats.columns = ['Median', 'IQR_25', 'IQR_75']"
   ]
  },
  {
   "cell_type": "code",
   "execution_count": null,
   "id": "04d77952",
   "metadata": {},
   "outputs": [],
   "source": [
    "# Count number and percentage of deaths in each group\n",
    "death_counts = df.groupby('EDTimeGroup')['death'].value_counts().unstack().fillna(0)\n",
    "death_counts['% Mortality'] = death_counts[1] / (death_counts[0] + death_counts[1]) * 100"
   ]
  },
  {
   "cell_type": "code",
   "execution_count": null,
   "id": "6e46a457",
   "metadata": {},
   "outputs": [],
   "source": [
    "from scipy.stats import shapiro, ttest_ind, mannwhitneyu, chi2_contingency, fisher_exact\n",
    "from sklearn.experimental import enable_iterative_imputer\n",
    "from sklearn.impute import SimpleImputer, IterativeImputer\n",
    "from rpy2.robjects.packages import importr\n",
    "from rpy2.robjects import numpy2ri\n",
    "import scipy.stats as stats\n",
    "# Test for significant differences in HospTime and mortality across groups using Kruskal-Wallis test\n",
    "hosp_time_p = stats.kruskal(*[group['HospTime'] for name, group in df.groupby('EDTimeGroup')]).pvalue\n",
    "mortality_p = stats.kruskal(*[group['death'] for name, group in df.groupby('EDTimeGroup')]).pvalue"
   ]
  },
  {
   "cell_type": "code",
   "execution_count": null,
   "id": "920e1b62",
   "metadata": {},
   "outputs": [],
   "source": [
    "df_org = pd.read_csv('sepsis.csv')"
   ]
  },
  {
   "cell_type": "code",
   "execution_count": null,
   "id": "e5bc91b2",
   "metadata": {},
   "outputs": [],
   "source": [
    "from datetime import datetime, timedelta\n",
    "df_org['28_day_mortality'] = (( pd.to_datetime(df_org['deathtime']) - pd.to_datetime(df_org['intime'])) <= timedelta(days=28)).astype(int)"
   ]
  },
  {
   "cell_type": "code",
   "execution_count": null,
   "id": "55a5637f",
   "metadata": {},
   "outputs": [],
   "source": [
    "# Merge df and df_org on subject_id, stay_id, and hadm_id\n",
    "merged_df = pd.merge(df, df_org[['subject_id', 'stay_id', 'hadm_id', '28_day_mortality']], \n",
    "                      on=['subject_id', 'stay_id', 'hadm_id'], \n",
    "                      how='left')\n",
    "# Rename the 28_day_mortality column to a more descriptive name\n",
    "merged_df = merged_df.rename(columns={'28_day_mortality': 'mortality_28d'})"
   ]
  },
  {
   "cell_type": "code",
   "execution_count": null,
   "id": "cc7d8da7",
   "metadata": {},
   "outputs": [],
   "source": [
    "death_counts_28d = merged_df.groupby('EDTimeGroup')['mortality_28d'].value_counts().unstack().fillna(0)\n",
    "death_counts_28d['% Mortality'] = death_counts_28d[1] / (death_counts_28d[0] + death_counts_28d[1]) * 100\n",
    "death_counts_28d_p = stats.kruskal(*[group['mortality_28d'] for name, group in merged_df.groupby('EDTimeGroup')]).pvalue"
   ]
  },
  {
   "cell_type": "code",
   "execution_count": null,
   "id": "d10e303e",
   "metadata": {},
   "outputs": [],
   "source": [
    "# Print results\n",
    "print('Table 2 Outcomes of patients according to length of stay in ED')\n",
    "print(f'{edtime_counts[\"<6\"]} patients had EDTime < 6 hours')\n",
    "print(f'{edtime_counts[\"6-12\"]} patients had 6-12 hours of EDTime')\n",
    "print(f'{edtime_counts[\"12-24\"]} patients had 12-24 hours of EDTime')\n",
    "print(f'{edtime_counts[\">24\"]} patients had EDTime > 24 hours\\n')\n",
    "print('----------------------')\n",
    "print('Hospital LOS (median [IQR])')\n",
    "print(los_stats.to_string())\n",
    "print(hosp_time_p)\n",
    "print('----------------------')\n",
    "print('\\nMortality, n (%)')\n",
    "print(death_counts.to_string())\n",
    "print(mortality_p)\n",
    "print('----------------------')\n",
    "print('\\n28_day_mortality, n (%)')\n",
    "print(death_counts_28d.to_string())\n",
    "print(death_counts_28d_p)"
   ]
  },
  {
   "cell_type": "code",
   "execution_count": null,
   "id": "fbd7d3a2",
   "metadata": {},
   "outputs": [],
   "source": []
  },
  {
   "cell_type": "code",
   "execution_count": null,
   "id": "46aebb25",
   "metadata": {},
   "outputs": [],
   "source": []
  }
 ],
 "metadata": {
  "kernelspec": {
   "display_name": "Python 3 (ipykernel)",
   "language": "python",
   "name": "python3"
  },
  "language_info": {
   "codemirror_mode": {
    "name": "ipython",
    "version": 3
   },
   "file_extension": ".py",
   "mimetype": "text/x-python",
   "name": "python",
   "nbconvert_exporter": "python",
   "pygments_lexer": "ipython3",
   "version": "3.9.13"
  }
 },
 "nbformat": 4,
 "nbformat_minor": 5
}
