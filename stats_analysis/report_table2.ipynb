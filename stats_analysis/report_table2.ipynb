{
 "cells": [
  {
   "cell_type": "code",
   "execution_count": null,
   "id": "e53329a9",
   "metadata": {},
   "outputs": [],
   "source": [
    "import os\n",
    "import pandas as pd\n",
    "import numpy as np\n",
    "from scipy.stats import shapiro, ttest_ind, mannwhitneyu, chi2_contingency, fisher_exact\n",
    "from sklearn.experimental import enable_iterative_imputer\n",
    "from sklearn.impute import SimpleImputer, IterativeImputer\n",
    "from rpy2.robjects.packages import importr\n",
    "from rpy2.robjects import numpy2ri\n",
    "import scipy.stats as stats"
   ]
  },
  {
   "cell_type": "code",
   "execution_count": null,
   "id": "a862d148",
   "metadata": {},
   "outputs": [],
   "source": [
    "# Load the data \n",
    "df = pd.read_csv('sepsis_cleaned.csv')"
   ]
  },
  {
   "cell_type": "code",
   "execution_count": null,
   "id": "0edaeafb",
   "metadata": {},
   "outputs": [],
   "source": [
    "df.shape"
   ]
  },
  {
   "cell_type": "code",
   "execution_count": null,
   "id": "739c02c6",
   "metadata": {},
   "outputs": [],
   "source": []
  },
  {
   "cell_type": "code",
   "execution_count": null,
   "id": "bc8bf525",
   "metadata": {},
   "outputs": [],
   "source": [
    "# Convert EDTime and HospTime to hours\n",
    "df['EDTime'] = df['EDTime'] * 24\n",
    "df['HospTime'] = df['HospTime'] * 24\n"
   ]
  },
  {
   "cell_type": "code",
   "execution_count": null,
   "id": "33e06191",
   "metadata": {},
   "outputs": [],
   "source": [
    "# Divide data into groups based on EDTime\n",
    "df['EDTimeGroup'] = pd.cut(df['EDTime'], [0, 6, 12, 24, np.inf], labels=['<6', '6-12', '12-24', '>24'])"
   ]
  },
  {
   "cell_type": "code",
   "execution_count": null,
   "id": "93f53f0e",
   "metadata": {},
   "outputs": [],
   "source": [
    "# Count number of patients in each EDTimeGroup\n",
    "edtime_counts = df['EDTimeGroup'].value_counts()"
   ]
  },
  {
   "cell_type": "code",
   "execution_count": null,
   "id": "38d5f872",
   "metadata": {},
   "outputs": [],
   "source": [
    "# Calculate median and IQR of Hospital LOS for each group\n",
    "los_stats = df.groupby('EDTimeGroup')['HospTime'].agg(['median', lambda x: np.percentile(x, 25), lambda x: np.percentile(x, 75)])\n",
    "los_stats.columns = ['Median', 'IQR_25', 'IQR_75']"
   ]
  },
  {
   "cell_type": "code",
   "execution_count": null,
   "id": "d78179b6",
   "metadata": {},
   "outputs": [],
   "source": [
    "# Count number and percentage of deaths in each group\n",
    "death_counts = df.groupby('EDTimeGroup')['death'].value_counts().unstack().fillna(0)\n",
    "death_counts['% Mortality'] = death_counts[1] / (death_counts[0] + death_counts[1]) * 100"
   ]
  },
  {
   "cell_type": "code",
   "execution_count": null,
   "id": "23439bb7",
   "metadata": {},
   "outputs": [],
   "source": [
    "# Test for significant differences in HospTime and mortality across groups using Kruskal-Wallis test\n",
    "hosp_time_p = stats.kruskal(*[group['HospTime'] for name, group in df.groupby('EDTimeGroup')]).pvalue\n",
    "mortality_p = stats.kruskal(*[group['death'] for name, group in df.groupby('EDTimeGroup')]).pvalue"
   ]
  },
  {
   "cell_type": "code",
   "execution_count": null,
   "id": "d1ad0e1f",
   "metadata": {},
   "outputs": [],
   "source": [
    "df.columns"
   ]
  },
  {
   "cell_type": "code",
   "execution_count": null,
   "id": "972a2010",
   "metadata": {},
   "outputs": [],
   "source": [
    "# Print results\n",
    "print('Table 2 Outcomes of patients according to length of stay in ED')\n",
    "print(f'{edtime_counts[\"<6\"]} patients had EDTime < 6 hours')\n",
    "print(f'{edtime_counts[\"6-12\"]} patients had 6-12 hours of EDTime')\n",
    "print(f'{edtime_counts[\"12-24\"]} patients had 12-24 hours of EDTime')\n",
    "print(f'{edtime_counts[\">24\"]} patients had EDTime > 24 hours\\n')\n",
    "print('Hospital LOS (median [IQR])')\n",
    "print(los_stats.to_string())\n",
    "print('\\nMortality, n (%)')\n",
    "print(death_counts.to_string())"
   ]
  },
  {
   "cell_type": "code",
   "execution_count": null,
   "id": "cad94593",
   "metadata": {},
   "outputs": [],
   "source": [
    "\n"
   ]
  },
  {
   "cell_type": "code",
   "execution_count": null,
   "id": "26d332b9",
   "metadata": {},
   "outputs": [],
   "source": [
    "hosp_time_p"
   ]
  },
  {
   "cell_type": "code",
   "execution_count": null,
   "id": "008db458",
   "metadata": {},
   "outputs": [],
   "source": [
    "mortality_p"
   ]
  },
  {
   "cell_type": "code",
   "execution_count": null,
   "id": "5e435f31",
   "metadata": {},
   "outputs": [],
   "source": []
  },
  {
   "cell_type": "code",
   "execution_count": null,
   "id": "33ed266d",
   "metadata": {},
   "outputs": [],
   "source": [
    "# Load the data \n",
    "df_org = pd.read_csv('sepsis.csv')"
   ]
  },
  {
   "cell_type": "code",
   "execution_count": null,
   "id": "38e931c7",
   "metadata": {},
   "outputs": [],
   "source": [
    "df_org.columns"
   ]
  },
  {
   "cell_type": "code",
   "execution_count": null,
   "id": "9e89ac45",
   "metadata": {},
   "outputs": [],
   "source": [
    "from datetime import datetime, timedelta\n",
    "df_org['28_day_mortality'] = (( pd.to_datetime(df_org['deathtime']) - pd.to_datetime(df_org['intime'])) <= timedelta(days=28)).astype(int)"
   ]
  },
  {
   "cell_type": "code",
   "execution_count": null,
   "id": "5e3c5796",
   "metadata": {},
   "outputs": [],
   "source": [
    "# Merge df and df_org on subject_id, stay_id, and hadm_id\n",
    "merged_df = pd.merge(df, df_org[['subject_id', 'stay_id', 'hadm_id', '28_day_mortality']], \n",
    "                      on=['subject_id', 'stay_id', 'hadm_id'], \n",
    "                      how='left')\n",
    "# Rename the 28_day_mortality column to a more descriptive name\n",
    "merged_df = merged_df.rename(columns={'28_day_mortality': 'mortality_28d'})"
   ]
  },
  {
   "cell_type": "code",
   "execution_count": null,
   "id": "0ee372c1",
   "metadata": {},
   "outputs": [],
   "source": [
    "merged_df.shape"
   ]
  },
  {
   "cell_type": "code",
   "execution_count": null,
   "id": "c0c7e3ea",
   "metadata": {},
   "outputs": [],
   "source": [
    "merged_df.head()"
   ]
  },
  {
   "cell_type": "code",
   "execution_count": null,
   "id": "729b1ac0",
   "metadata": {},
   "outputs": [],
   "source": [
    "death_counts_28d = merged_df.groupby('EDTimeGroup')['mortality_28d'].value_counts().unstack().fillna(0)\n",
    "death_counts_28d['% Mortality'] = death_counts_28d[1] / (death_counts_28d[0] + death_counts_28d[1]) * 100"
   ]
  },
  {
   "cell_type": "code",
   "execution_count": null,
   "id": "66cd834e",
   "metadata": {},
   "outputs": [],
   "source": [
    "death_counts_28d_p = stats.kruskal(*[group['mortality_28d'] for name, group in merged_df.groupby('EDTimeGroup')]).pvalue"
   ]
  },
  {
   "cell_type": "code",
   "execution_count": null,
   "id": "7fedc179",
   "metadata": {},
   "outputs": [],
   "source": [
    "print('\\n28_day_mortality, n (%)')\n",
    "print(death_counts_28d.to_string())"
   ]
  },
  {
   "cell_type": "code",
   "execution_count": null,
   "id": "0999ec11",
   "metadata": {},
   "outputs": [],
   "source": [
    "death_counts_28d_p"
   ]
  },
  {
   "cell_type": "code",
   "execution_count": null,
   "id": "9b7fad68",
   "metadata": {},
   "outputs": [],
   "source": [
    "counts_iv = df.groupby('EDTimeGroup')['IV'].value_counts().unstack().fillna(0)\n",
    "counts_iv['% IV'] = counts_iv[1] / (counts_iv[0] + counts_iv[1]) * 100"
   ]
  },
  {
   "cell_type": "code",
   "execution_count": null,
   "id": "66038c10",
   "metadata": {},
   "outputs": [],
   "source": [
    "IV_p = stats.kruskal(*[group['IV'] for name, group in df.groupby('EDTimeGroup')]).pvalue"
   ]
  },
  {
   "cell_type": "code",
   "execution_count": null,
   "id": "9e852bfe",
   "metadata": {},
   "outputs": [],
   "source": [
    "print('\\nIV n (%)')\n",
    "print(counts_iv.to_string())\n",
    "print(\"-----------------------\")\n",
    "print(IV_p)"
   ]
  },
  {
   "cell_type": "code",
   "execution_count": null,
   "id": "7af3a4de",
   "metadata": {},
   "outputs": [],
   "source": []
  }
 ],
 "metadata": {
  "kernelspec": {
   "display_name": "Python 3 (ipykernel)",
   "language": "python",
   "name": "python3"
  },
  "language_info": {
   "codemirror_mode": {
    "name": "ipython",
    "version": 3
   },
   "file_extension": ".py",
   "mimetype": "text/x-python",
   "name": "python",
   "nbconvert_exporter": "python",
   "pygments_lexer": "ipython3",
   "version": "3.9.13"
  }
 },
 "nbformat": 4,
 "nbformat_minor": 5
}
