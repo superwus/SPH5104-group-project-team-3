{
 "cells": [
  {
   "cell_type": "code",
   "execution_count": 1,
   "id": "ca8f93fe",
   "metadata": {},
   "outputs": [],
   "source": [
    "from itertools import combinations\n",
    "from scipy.stats import ttest_ind\n",
    "import pandas as pd"
   ]
  },
  {
   "cell_type": "code",
   "execution_count": 2,
   "id": "9421a8ba",
   "metadata": {},
   "outputs": [],
   "source": [
    "def check_pval(a, b):\n",
    "    a = a.dropna()\n",
    "    b = b.dropna()\n",
    "    t, p = ttest_ind(a, b, alternative = 'greater')\n",
    "    return p"
   ]
  },
  {
   "cell_type": "code",
   "execution_count": 3,
   "id": "135307fd",
   "metadata": {},
   "outputs": [],
   "source": [
    "Pro_CM = pd.read_csv('P-Value_Check_Propensity_CM.csv')\n",
    "\n",
    "Pro_P_vals = []\n",
    "for i in range(int(Pro_CM.shape[1]/2)):\n",
    "    Pro_P_vals.append(check_pval(Pro_CM.iloc[:, i * 2], Pro_CM.iloc[:, i * 2 + 1]))\n",
    "\n",
    "pd.DataFrame(Pro_P_vals).to_csv('Pro_P_vals.csv')"
   ]
  },
  {
   "cell_type": "code",
   "execution_count": 4,
   "id": "4895eeec",
   "metadata": {},
   "outputs": [],
   "source": [
    "Euc_CM = pd.read_csv('P-Value_Check_Euclidean_CM.csv')\n",
    "\n",
    "Euc_P_vals = []\n",
    "for i in range(int(Euc_CM.shape[1]/2)):\n",
    "    Euc_P_vals.append(check_pval(Euc_CM.iloc[:, i * 2], Euc_CM.iloc[:, i * 2 + 1]))\n",
    "    \n",
    "pd.DataFrame(Euc_P_vals).to_csv('Euc_P_vals.csv')"
   ]
  }
 ],
 "metadata": {
  "kernelspec": {
   "display_name": "Python 3 (ipykernel)",
   "language": "python",
   "name": "python3"
  },
  "language_info": {
   "codemirror_mode": {
    "name": "ipython",
    "version": 3
   },
   "file_extension": ".py",
   "mimetype": "text/x-python",
   "name": "python",
   "nbconvert_exporter": "python",
   "pygments_lexer": "ipython3",
   "version": "3.9.13"
  }
 },
 "nbformat": 4,
 "nbformat_minor": 5
}
