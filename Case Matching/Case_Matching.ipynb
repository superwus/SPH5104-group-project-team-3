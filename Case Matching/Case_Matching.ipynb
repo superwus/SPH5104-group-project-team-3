{
 "cells": [
  {
   "cell_type": "code",
   "execution_count": 1,
   "id": "1550f9cc",
   "metadata": {},
   "outputs": [],
   "source": [
    "#Import the required libraries\n",
    "import numpy as np\n",
    "import pandas as pd\n",
    "import seaborn as sns\n",
    "import matplotlib.pyplot as plt\n",
    "\n",
    "from sklearn.model_selection import cross_val_score, StratifiedKFold, GridSearchCV, train_test_split\n",
    "from sklearn.linear_model import LogisticRegression, LinearRegression\n",
    "from sklearn.metrics import confusion_matrix, classification_report, ConfusionMatrixDisplay, mean_squared_error\n",
    "\n",
    "from sklearn.decomposition import PCA, KernelPCA, SparsePCA\n",
    "from sklearn.compose import ColumnTransformer\n",
    "\n",
    "import warnings\n",
    "warnings.filterwarnings('ignore')"
   ]
  },
  {
   "cell_type": "markdown",
   "id": "8b39ff8a",
   "metadata": {},
   "source": [
    "### Load Data"
   ]
  },
  {
   "cell_type": "code",
   "execution_count": 2,
   "id": "73a00bb4",
   "metadata": {},
   "outputs": [
    {
     "data": {
      "text/html": [
       "<div>\n",
       "<style scoped>\n",
       "    .dataframe tbody tr th:only-of-type {\n",
       "        vertical-align: middle;\n",
       "    }\n",
       "\n",
       "    .dataframe tbody tr th {\n",
       "        vertical-align: top;\n",
       "    }\n",
       "\n",
       "    .dataframe thead th {\n",
       "        text-align: right;\n",
       "    }\n",
       "</style>\n",
       "<table border=\"1\" class=\"dataframe\">\n",
       "  <thead>\n",
       "    <tr style=\"text-align: right;\">\n",
       "      <th></th>\n",
       "      <th>No</th>\n",
       "      <th>EDTime</th>\n",
       "      <th>gender</th>\n",
       "      <th>WHITE</th>\n",
       "      <th>WHITE - RUSSIAN</th>\n",
       "      <th>WHITE - EASTERN EUROPEAN</th>\n",
       "      <th>WHITE - OTHER EUROPEAN</th>\n",
       "      <th>WHITE - BRAZILIAN</th>\n",
       "      <th>SOUTH AMERICAN</th>\n",
       "      <th>ASIAN</th>\n",
       "      <th>...</th>\n",
       "      <th>temperature</th>\n",
       "      <th>heartrate</th>\n",
       "      <th>resprate</th>\n",
       "      <th>o2sat</th>\n",
       "      <th>sbp</th>\n",
       "      <th>dbp</th>\n",
       "      <th>qsofa</th>\n",
       "      <th>HospTime</th>\n",
       "      <th>death</th>\n",
       "      <th>EDTime_grp</th>\n",
       "    </tr>\n",
       "  </thead>\n",
       "  <tbody>\n",
       "    <tr>\n",
       "      <th>0</th>\n",
       "      <td>1</td>\n",
       "      <td>0.127431</td>\n",
       "      <td>0</td>\n",
       "      <td>1</td>\n",
       "      <td>0</td>\n",
       "      <td>0</td>\n",
       "      <td>0</td>\n",
       "      <td>0</td>\n",
       "      <td>0</td>\n",
       "      <td>0</td>\n",
       "      <td>...</td>\n",
       "      <td>0.527397</td>\n",
       "      <td>0.664706</td>\n",
       "      <td>0.500000</td>\n",
       "      <td>0.986667</td>\n",
       "      <td>0.442105</td>\n",
       "      <td>0.383333</td>\n",
       "      <td>0.333333</td>\n",
       "      <td>5.838889</td>\n",
       "      <td>0</td>\n",
       "      <td>3</td>\n",
       "    </tr>\n",
       "    <tr>\n",
       "      <th>1</th>\n",
       "      <td>2</td>\n",
       "      <td>0.091591</td>\n",
       "      <td>1</td>\n",
       "      <td>0</td>\n",
       "      <td>0</td>\n",
       "      <td>0</td>\n",
       "      <td>1</td>\n",
       "      <td>0</td>\n",
       "      <td>0</td>\n",
       "      <td>0</td>\n",
       "      <td>...</td>\n",
       "      <td>0.547945</td>\n",
       "      <td>0.758824</td>\n",
       "      <td>0.434783</td>\n",
       "      <td>1.000000</td>\n",
       "      <td>0.526316</td>\n",
       "      <td>0.500000</td>\n",
       "      <td>0.333333</td>\n",
       "      <td>8.860417</td>\n",
       "      <td>0</td>\n",
       "      <td>2</td>\n",
       "    </tr>\n",
       "    <tr>\n",
       "      <th>2</th>\n",
       "      <td>3</td>\n",
       "      <td>0.101736</td>\n",
       "      <td>1</td>\n",
       "      <td>1</td>\n",
       "      <td>0</td>\n",
       "      <td>0</td>\n",
       "      <td>0</td>\n",
       "      <td>0</td>\n",
       "      <td>0</td>\n",
       "      <td>0</td>\n",
       "      <td>...</td>\n",
       "      <td>0.486301</td>\n",
       "      <td>0.482353</td>\n",
       "      <td>0.413043</td>\n",
       "      <td>0.966667</td>\n",
       "      <td>0.389474</td>\n",
       "      <td>0.283333</td>\n",
       "      <td>0.000000</td>\n",
       "      <td>10.704861</td>\n",
       "      <td>0</td>\n",
       "      <td>2</td>\n",
       "    </tr>\n",
       "    <tr>\n",
       "      <th>3</th>\n",
       "      <td>4</td>\n",
       "      <td>0.070833</td>\n",
       "      <td>0</td>\n",
       "      <td>0</td>\n",
       "      <td>0</td>\n",
       "      <td>0</td>\n",
       "      <td>0</td>\n",
       "      <td>0</td>\n",
       "      <td>0</td>\n",
       "      <td>0</td>\n",
       "      <td>...</td>\n",
       "      <td>0.493151</td>\n",
       "      <td>0.294118</td>\n",
       "      <td>0.086957</td>\n",
       "      <td>0.966667</td>\n",
       "      <td>0.421053</td>\n",
       "      <td>0.583333</td>\n",
       "      <td>0.000000</td>\n",
       "      <td>14.060417</td>\n",
       "      <td>0</td>\n",
       "      <td>2</td>\n",
       "    </tr>\n",
       "    <tr>\n",
       "      <th>4</th>\n",
       "      <td>5</td>\n",
       "      <td>0.102778</td>\n",
       "      <td>1</td>\n",
       "      <td>1</td>\n",
       "      <td>0</td>\n",
       "      <td>0</td>\n",
       "      <td>0</td>\n",
       "      <td>0</td>\n",
       "      <td>0</td>\n",
       "      <td>0</td>\n",
       "      <td>...</td>\n",
       "      <td>0.678082</td>\n",
       "      <td>0.776471</td>\n",
       "      <td>0.608696</td>\n",
       "      <td>0.946667</td>\n",
       "      <td>1.000000</td>\n",
       "      <td>0.800000</td>\n",
       "      <td>0.666667</td>\n",
       "      <td>10.531250</td>\n",
       "      <td>0</td>\n",
       "      <td>2</td>\n",
       "    </tr>\n",
       "  </tbody>\n",
       "</table>\n",
       "<p>5 rows × 89 columns</p>\n",
       "</div>"
      ],
      "text/plain": [
       "   No    EDTime  gender  WHITE  WHITE - RUSSIAN  WHITE - EASTERN EUROPEAN  \\\n",
       "0   1  0.127431       0      1                0                         0   \n",
       "1   2  0.091591       1      0                0                         0   \n",
       "2   3  0.101736       1      1                0                         0   \n",
       "3   4  0.070833       0      0                0                         0   \n",
       "4   5  0.102778       1      1                0                         0   \n",
       "\n",
       "   WHITE - OTHER EUROPEAN  WHITE - BRAZILIAN  SOUTH AMERICAN  ASIAN  ...  \\\n",
       "0                       0                  0               0      0  ...   \n",
       "1                       1                  0               0      0  ...   \n",
       "2                       0                  0               0      0  ...   \n",
       "3                       0                  0               0      0  ...   \n",
       "4                       0                  0               0      0  ...   \n",
       "\n",
       "   temperature  heartrate  resprate     o2sat       sbp       dbp     qsofa  \\\n",
       "0     0.527397   0.664706  0.500000  0.986667  0.442105  0.383333  0.333333   \n",
       "1     0.547945   0.758824  0.434783  1.000000  0.526316  0.500000  0.333333   \n",
       "2     0.486301   0.482353  0.413043  0.966667  0.389474  0.283333  0.000000   \n",
       "3     0.493151   0.294118  0.086957  0.966667  0.421053  0.583333  0.000000   \n",
       "4     0.678082   0.776471  0.608696  0.946667  1.000000  0.800000  0.666667   \n",
       "\n",
       "    HospTime  death  EDTime_grp  \n",
       "0   5.838889      0           3  \n",
       "1   8.860417      0           2  \n",
       "2  10.704861      0           2  \n",
       "3  14.060417      0           2  \n",
       "4  10.531250      0           2  \n",
       "\n",
       "[5 rows x 89 columns]"
      ]
     },
     "execution_count": 2,
     "metadata": {},
     "output_type": "execute_result"
    }
   ],
   "source": [
    "S_Data = pd.read_csv('ED-sepsis.csv')\n",
    "death = S_Data.death\n",
    "S_Data.head()"
   ]
  },
  {
   "cell_type": "code",
   "execution_count": 3,
   "id": "3e5e2bfc",
   "metadata": {},
   "outputs": [],
   "source": [
    "#Split data to training and validation\n",
    "X_train, X_val, Y_train, Y_val = train_test_split(S_Data, death, stratify=death, test_size=0.2, random_state = 42)"
   ]
  },
  {
   "cell_type": "code",
   "execution_count": 4,
   "id": "0babc721",
   "metadata": {},
   "outputs": [],
   "source": [
    "#Create second dataset for 28-days mortality\n",
    "X_train_28 = X_train.copy()\n",
    "X_train_28.loc[X_train_28.HospTime > 28, 'death'] = 0\n",
    "\n",
    "X_val_28 = X_val.copy()\n",
    "X_val_28.loc[X_val_28.HospTime > 28, 'death'] = 0"
   ]
  },
  {
   "cell_type": "code",
   "execution_count": 5,
   "id": "f58dbbb7",
   "metadata": {},
   "outputs": [],
   "source": [
    "Y_train = X_train[['EDTime', 'EDTime_grp', 'No','HospTime', 'death']].copy()\n",
    "\n",
    "X_train.drop(['EDTime'], axis=1, inplace= True)\n",
    "X_train.drop(['EDTime_grp'], axis=1, inplace= True)\n",
    "X_train.drop(['No'], axis=1, inplace= True)\n",
    "X_train.drop(['HospTime'], axis=1, inplace= True)\n",
    "X_train.drop(['death'], axis=1, inplace= True)\n",
    "\n",
    "Y_val = X_val[['EDTime', 'EDTime_grp', 'No','HospTime', 'death']].copy()\n",
    "\n",
    "X_val.drop(['EDTime'], axis=1, inplace= True)\n",
    "X_val.drop(['EDTime_grp'], axis=1, inplace= True)\n",
    "X_val.drop(['No'], axis=1, inplace= True)\n",
    "X_val.drop(['HospTime'], axis=1, inplace= True)\n",
    "X_val.drop(['death'], axis=1, inplace= True)\n",
    "\n",
    "Y_train_28 = X_train_28[['EDTime', 'EDTime_grp', 'No','HospTime', 'death']].copy()\n",
    "Y_val_28 = X_val_28[['EDTime', 'EDTime_grp', 'No','HospTime', 'death']].copy()"
   ]
  },
  {
   "cell_type": "code",
   "execution_count": 6,
   "id": "29f87d95",
   "metadata": {},
   "outputs": [],
   "source": [
    "#PCA will reset the index. So, reset the index as well so we can match them afterwards.\n",
    "X_train.reset_index(drop = True, inplace = True)\n",
    "X_val.reset_index(drop = True, inplace = True)\n",
    "\n",
    "Y_train.reset_index(drop = True, inplace = True)\n",
    "Y_val.reset_index(drop = True, inplace = True)\n",
    "Y_train_28.reset_index(drop = True, inplace = True)\n",
    "Y_val_28.reset_index(drop = True, inplace = True)"
   ]
  },
  {
   "cell_type": "markdown",
   "id": "5ba3028c",
   "metadata": {},
   "source": [
    "# Feature Selection"
   ]
  },
  {
   "cell_type": "markdown",
   "id": "1a93f920",
   "metadata": {},
   "source": [
    "### No Feature Selection"
   ]
  },
  {
   "cell_type": "code",
   "execution_count": 7,
   "id": "a206b0f2",
   "metadata": {},
   "outputs": [],
   "source": [
    "NFS_X_train = X_train.copy()\n",
    "NFS_X_val = X_val.copy()"
   ]
  },
  {
   "cell_type": "markdown",
   "id": "28bb8cd0",
   "metadata": {},
   "source": [
    "### PCA"
   ]
  },
  {
   "cell_type": "code",
   "execution_count": 8,
   "id": "774e92d1",
   "metadata": {},
   "outputs": [],
   "source": [
    "pca = PCA()\n",
    "PCA_X_train = pca.fit_transform(X_train)\n",
    "PCA_variance = pca.explained_variance_ratio_"
   ]
  },
  {
   "cell_type": "code",
   "execution_count": 9,
   "id": "92df5bce",
   "metadata": {},
   "outputs": [
    {
     "data": {
      "image/png": "[encoded data removed]",
      "text/plain": [
       "<Figure size 800x600 with 1 Axes>"
      ]
     },
     "metadata": {},
     "output_type": "display_data"
    }
   ],
   "source": [
    "plt.figure(figsize=(8, 6))\n",
    "plt.bar(range(84), PCA_variance, alpha=0.5, label='feature variance', color = 'red')\n",
    "plt.legend()\n",
    "plt.ylabel('Variance ratio')\n",
    "plt.xlabel('Principal components')\n",
    "plt.show()"
   ]
  },
  {
   "cell_type": "code",
   "execution_count": 10,
   "id": "0ddd7885",
   "metadata": {},
   "outputs": [
    {
     "name": "stdout",
     "output_type": "stream",
     "text": [
      "To explain 95% of the data, we need 46 variables from PCA.\n"
     ]
    }
   ],
   "source": [
    "#Choose the number of variables so that the explained variance is at least 95%.\n",
    "var_exp = 0\n",
    "for i in range(84):\n",
    "    var_exp = var_exp + PCA_variance[i]\n",
    "    if var_exp >= 0.95:\n",
    "        num_var = i + 1\n",
    "        break\n",
    "print('To explain 95% of the data, we need ' + str(num_var) + ' variables from PCA.')"
   ]
  },
  {
   "cell_type": "code",
   "execution_count": 11,
   "id": "9f9977c6",
   "metadata": {},
   "outputs": [],
   "source": [
    "pca95 = PCA(n_components = num_var)\n",
    "pca95 = pca95.fit(X_train)"
   ]
  },
  {
   "cell_type": "code",
   "execution_count": 12,
   "id": "d8a857d8",
   "metadata": {},
   "outputs": [],
   "source": [
    "PCA_X_train = pd.DataFrame(pca95.transform(X_train))\n",
    "PCA_X_val = pd.DataFrame(pca95.transform(X_val))"
   ]
  },
  {
   "cell_type": "markdown",
   "id": "6f97063a",
   "metadata": {},
   "source": [
    "### SPCA"
   ]
  },
  {
   "cell_type": "code",
   "execution_count": 13,
   "id": "f219ad01",
   "metadata": {},
   "outputs": [],
   "source": [
    "spa = SparsePCA()\n",
    "SPA_X_train = spa.fit_transform(X_train)\n",
    "SPA_variance = np.var(SPA_X_train, axis=0)\n",
    "SPA_variance = SPA_variance / np.sum(SPA_variance)\n",
    "SPA_variance = -np.sort(-SPA_variance)"
   ]
  },
  {
   "cell_type": "code",
   "execution_count": 14,
   "id": "52292233",
   "metadata": {},
   "outputs": [
    {
     "data": {
      "image/png": "[encoded data removed]",
      "text/plain": [
       "<Figure size 800x600 with 1 Axes>"
      ]
     },
     "metadata": {},
     "output_type": "display_data"
    }
   ],
   "source": [
    "plt.figure(figsize=(8, 6))\n",
    "plt.bar(range(84), SPA_variance, alpha=0.5, label='feature variance', color = 'red')\n",
    "plt.legend()\n",
    "plt.ylabel('Variance ratio')\n",
    "plt.xlabel('Principal components')\n",
    "plt.show()"
   ]
  },
  {
   "cell_type": "code",
   "execution_count": 15,
   "id": "6b56201b",
   "metadata": {},
   "outputs": [
    {
     "name": "stdout",
     "output_type": "stream",
     "text": [
      "To explain 95% of the data, we need 52 variables from PCA.\n"
     ]
    }
   ],
   "source": [
    "#Choose the number of variables so that the explained variance is at least 95%.\n",
    "var_exp = 0\n",
    "for i in range(84):\n",
    "    var_exp = var_exp + SPA_variance[i]\n",
    "    if var_exp >= 0.95:\n",
    "        num_var = i + 1\n",
    "        break\n",
    "print('To explain 95% of the data, we need ' + str(num_var) + ' variables from PCA.')"
   ]
  },
  {
   "cell_type": "code",
   "execution_count": 16,
   "id": "3d4f87c4",
   "metadata": {},
   "outputs": [],
   "source": [
    "spa95 = SparsePCA(n_components=num_var)\n",
    "spa95 = spa95.fit(X_train)"
   ]
  },
  {
   "cell_type": "code",
   "execution_count": 17,
   "id": "0ab8c783",
   "metadata": {},
   "outputs": [],
   "source": [
    "SPA_X_train = pd.DataFrame(spa95.transform(X_train))\n",
    "SPA_X_val = pd.DataFrame(spa95.transform(X_val))"
   ]
  },
  {
   "cell_type": "markdown",
   "id": "b19d642f",
   "metadata": {},
   "source": [
    "### Simple Logistic Regression\n",
    "We will perform a simple logistic regression using all the columns provided.<br>"
   ]
  },
  {
   "cell_type": "code",
   "execution_count": 18,
   "id": "32ca8e55",
   "metadata": {},
   "outputs": [],
   "source": [
    "def LogR(X_train, Y_train, X_val, Y_val):\n",
    "    #Train the logistic regression model\n",
    "    LogR = LogisticRegression()\n",
    "    LogR.fit(X_train, Y_train)\n",
    "    Y_hat_train = LogR.predict(X_train)\n",
    "    Y_hat_val = LogR.predict(X_val)\n",
    "    \n",
    "    #classificiation report on the training and the validation set\n",
    "    Cl_Rep_tr = classification_report(Y_train, Y_hat_train)\n",
    "    print(\"Classification Report on the Training Set\")\n",
    "    print(Cl_Rep_tr)\n",
    "    Cl_Rep_val = classification_report(Y_val, Y_hat_val)\n",
    "    print(\"\\nClassification Report on the Validation Set\")\n",
    "    print(Cl_Rep_val)\n",
    "    \n",
    "    #Below is the coefficient of the trained logistic regression model\n",
    "    LogR_coef = pd.DataFrame(zip(X_train.columns, np.transpose(LogR.coef_)), columns=['features', 'coef'])\n",
    "    print(LogR_coef.loc[LogR_coef['features'] == 'EDTime'])\n",
    "    \n",
    "    return LogR_coef"
   ]
  },
  {
   "cell_type": "markdown",
   "id": "f12fde9a",
   "metadata": {},
   "source": [
    "### Logistic Regression: No Feature Selection"
   ]
  },
  {
   "cell_type": "code",
   "execution_count": 19,
   "id": "980ff25c",
   "metadata": {},
   "outputs": [],
   "source": [
    "NFS_X_train.insert(0, 'EDTime', Y_train['EDTime'])\n",
    "NFS_X_val.insert(0, 'EDTime', Y_val['EDTime'])"
   ]
  },
  {
   "cell_type": "code",
   "execution_count": 20,
   "id": "6e2a8835",
   "metadata": {},
   "outputs": [
    {
     "name": "stdout",
     "output_type": "stream",
     "text": [
      "Classification Report on the Training Set\n",
      "              precision    recall  f1-score   support\n",
      "\n",
      "           0       0.88      0.98      0.93      1458\n",
      "           1       0.68      0.27      0.39       257\n",
      "\n",
      "    accuracy                           0.87      1715\n",
      "   macro avg       0.78      0.62      0.66      1715\n",
      "weighted avg       0.85      0.87      0.85      1715\n",
      "\n",
      "\n",
      "Classification Report on the Validation Set\n",
      "              precision    recall  f1-score   support\n",
      "\n",
      "           0       0.89      0.97      0.93       365\n",
      "           1       0.64      0.28      0.39        64\n",
      "\n",
      "    accuracy                           0.87       429\n",
      "   macro avg       0.76      0.63      0.66       429\n",
      "weighted avg       0.85      0.87      0.85       429\n",
      "\n",
      "  features                   coef\n",
      "0   EDTime  [0.25412063671385093]\n"
     ]
    }
   ],
   "source": [
    "LogR_NFS_coef = LogR(NFS_X_train, Y_train.death, NFS_X_val, Y_val.death)"
   ]
  },
  {
   "cell_type": "code",
   "execution_count": 21,
   "id": "8e3b90cf",
   "metadata": {},
   "outputs": [
    {
     "name": "stdout",
     "output_type": "stream",
     "text": [
      "Classification Report on the Training Set\n",
      "              precision    recall  f1-score   support\n",
      "\n",
      "           0       0.89      0.98      0.93      1465\n",
      "           1       0.69      0.27      0.39       250\n",
      "\n",
      "    accuracy                           0.88      1715\n",
      "   macro avg       0.79      0.63      0.66      1715\n",
      "weighted avg       0.86      0.88      0.85      1715\n",
      "\n",
      "\n",
      "Classification Report on the Validation Set\n",
      "              precision    recall  f1-score   support\n",
      "\n",
      "           0       0.89      0.97      0.93       367\n",
      "           1       0.63      0.27      0.38        62\n",
      "\n",
      "    accuracy                           0.87       429\n",
      "   macro avg       0.76      0.62      0.66       429\n",
      "weighted avg       0.85      0.87      0.85       429\n",
      "\n",
      "  features                   coef\n",
      "0   EDTime  [0.13731347691910725]\n"
     ]
    }
   ],
   "source": [
    "LogR_NFS_coef_28 = LogR(NFS_X_train, Y_train_28.death, NFS_X_val, Y_val_28.death)"
   ]
  },
  {
   "cell_type": "code",
   "execution_count": 22,
   "id": "7b5939b0",
   "metadata": {},
   "outputs": [],
   "source": [
    "NFS_X = NFS_X_train.append(NFS_X_val, ignore_index = True)\n",
    "NFS_X.to_csv('NFS_X.csv')"
   ]
  },
  {
   "cell_type": "code",
   "execution_count": 23,
   "id": "4ba8e4d8",
   "metadata": {},
   "outputs": [],
   "source": [
    "LogR_NFS_coef.to_csv('LogR_NFS_coef.csv')\n",
    "LogR_NFS_coef_28.to_csv('LogR_NFS_coef_28.csv')"
   ]
  },
  {
   "cell_type": "markdown",
   "id": "220b812e",
   "metadata": {},
   "source": [
    "### Logistic Regression: PCA"
   ]
  },
  {
   "cell_type": "code",
   "execution_count": 24,
   "id": "e3c1a25d",
   "metadata": {},
   "outputs": [],
   "source": [
    "PCA_X_train.insert(0, 'EDTime', Y_train['EDTime'])\n",
    "PCA_X_val.insert(0, 'EDTime', Y_val['EDTime'])"
   ]
  },
  {
   "cell_type": "code",
   "execution_count": 25,
   "id": "30ef5179",
   "metadata": {},
   "outputs": [
    {
     "name": "stdout",
     "output_type": "stream",
     "text": [
      "Classification Report on the Training Set\n",
      "              precision    recall  f1-score   support\n",
      "\n",
      "           0       0.88      0.98      0.93      1458\n",
      "           1       0.66      0.27      0.38       257\n",
      "\n",
      "    accuracy                           0.87      1715\n",
      "   macro avg       0.77      0.62      0.65      1715\n",
      "weighted avg       0.85      0.87      0.85      1715\n",
      "\n",
      "\n",
      "Classification Report on the Validation Set\n",
      "              precision    recall  f1-score   support\n",
      "\n",
      "           0       0.89      0.97      0.93       365\n",
      "           1       0.62      0.28      0.39        64\n",
      "\n",
      "    accuracy                           0.87       429\n",
      "   macro avg       0.75      0.63      0.66       429\n",
      "weighted avg       0.85      0.87      0.85       429\n",
      "\n",
      "  features                  coef\n",
      "0   EDTime  [0.3457005481420844]\n"
     ]
    }
   ],
   "source": [
    "LogR_PCA_coef = LogR(PCA_X_train, Y_train.death, PCA_X_val, Y_val.death)"
   ]
  },
  {
   "cell_type": "code",
   "execution_count": 26,
   "id": "44e1e7e0",
   "metadata": {},
   "outputs": [
    {
     "name": "stdout",
     "output_type": "stream",
     "text": [
      "Classification Report on the Training Set\n",
      "              precision    recall  f1-score   support\n",
      "\n",
      "           0       0.89      0.98      0.93      1465\n",
      "           1       0.67      0.26      0.38       250\n",
      "\n",
      "    accuracy                           0.87      1715\n",
      "   macro avg       0.78      0.62      0.65      1715\n",
      "weighted avg       0.86      0.87      0.85      1715\n",
      "\n",
      "\n",
      "Classification Report on the Validation Set\n",
      "              precision    recall  f1-score   support\n",
      "\n",
      "           0       0.89      0.97      0.93       367\n",
      "           1       0.64      0.29      0.40        62\n",
      "\n",
      "    accuracy                           0.87       429\n",
      "   macro avg       0.77      0.63      0.66       429\n",
      "weighted avg       0.85      0.87      0.85       429\n",
      "\n",
      "  features                   coef\n",
      "0   EDTime  [0.22914175416880603]\n"
     ]
    }
   ],
   "source": [
    "LogR_PCA_coef_28 = LogR(PCA_X_train, Y_train_28.death, PCA_X_val, Y_val_28.death)"
   ]
  },
  {
   "cell_type": "code",
   "execution_count": 27,
   "id": "8c96a17a",
   "metadata": {},
   "outputs": [],
   "source": [
    "PCA_X = PCA_X_train.append(PCA_X_val, ignore_index = True)\n",
    "PCA_X.to_csv('PCA_X.csv')"
   ]
  },
  {
   "cell_type": "code",
   "execution_count": 28,
   "id": "d9091911",
   "metadata": {},
   "outputs": [],
   "source": [
    "LogR_PCA_coef.to_csv('LogR_PCA_coef.csv')\n",
    "LogR_PCA_coef_28.to_csv('LogR_PCA_coef_28.csv')"
   ]
  },
  {
   "cell_type": "markdown",
   "id": "7b583b65",
   "metadata": {},
   "source": [
    "### Logistic Regression: SPCA"
   ]
  },
  {
   "cell_type": "code",
   "execution_count": 29,
   "id": "b4e7552c",
   "metadata": {},
   "outputs": [],
   "source": [
    "SPA_X_train.insert(0, 'EDTime', Y_train['EDTime'])\n",
    "SPA_X_val.insert(0, 'EDTime', Y_val['EDTime'])"
   ]
  },
  {
   "cell_type": "code",
   "execution_count": 30,
   "id": "7e98c84f",
   "metadata": {},
   "outputs": [
    {
     "name": "stdout",
     "output_type": "stream",
     "text": [
      "Classification Report on the Training Set\n",
      "              precision    recall  f1-score   support\n",
      "\n",
      "           0       0.88      0.98      0.93      1458\n",
      "           1       0.66      0.25      0.37       257\n",
      "\n",
      "    accuracy                           0.87      1715\n",
      "   macro avg       0.77      0.61      0.65      1715\n",
      "weighted avg       0.85      0.87      0.84      1715\n",
      "\n",
      "\n",
      "Classification Report on the Validation Set\n",
      "              precision    recall  f1-score   support\n",
      "\n",
      "           0       0.88      0.97      0.92       365\n",
      "           1       0.59      0.27      0.37        64\n",
      "\n",
      "    accuracy                           0.86       429\n",
      "   macro avg       0.73      0.62      0.64       429\n",
      "weighted avg       0.84      0.86      0.84       429\n",
      "\n",
      "  features                  coef\n",
      "0   EDTime  [0.3066503971782358]\n"
     ]
    }
   ],
   "source": [
    "LogR_SPA_coef = LogR(SPA_X_train, Y_train.death, SPA_X_val, Y_val.death)"
   ]
  },
  {
   "cell_type": "code",
   "execution_count": 31,
   "id": "e1b798ab",
   "metadata": {},
   "outputs": [
    {
     "name": "stdout",
     "output_type": "stream",
     "text": [
      "Classification Report on the Training Set\n",
      "              precision    recall  f1-score   support\n",
      "\n",
      "           0       0.88      0.98      0.93      1465\n",
      "           1       0.67      0.25      0.36       250\n",
      "\n",
      "    accuracy                           0.87      1715\n",
      "   macro avg       0.78      0.61      0.65      1715\n",
      "weighted avg       0.85      0.87      0.85      1715\n",
      "\n",
      "\n",
      "Classification Report on the Validation Set\n",
      "              precision    recall  f1-score   support\n",
      "\n",
      "           0       0.89      0.98      0.93       367\n",
      "           1       0.64      0.26      0.37        62\n",
      "\n",
      "    accuracy                           0.87       429\n",
      "   macro avg       0.76      0.62      0.65       429\n",
      "weighted avg       0.85      0.87      0.85       429\n",
      "\n",
      "  features                   coef\n",
      "0   EDTime  [0.18626596794589148]\n"
     ]
    }
   ],
   "source": [
    "LogR_SPA_coef_28 = LogR(SPA_X_train, Y_train_28.death, SPA_X_val, Y_val_28.death)"
   ]
  },
  {
   "cell_type": "code",
   "execution_count": 32,
   "id": "0040b2b5",
   "metadata": {},
   "outputs": [],
   "source": [
    "SPA_X = SPA_X_train.append(SPA_X_val, ignore_index = True)\n",
    "SPA_X.to_csv('SPA_X.csv')"
   ]
  },
  {
   "cell_type": "code",
   "execution_count": 33,
   "id": "d0b8018a",
   "metadata": {},
   "outputs": [],
   "source": [
    "LogR_SPA_coef.to_csv('LogR_SPA_coef.csv')\n",
    "LogR_SPA_coef_28.to_csv('LogR_SPA_coef_28.csv')"
   ]
  },
  {
   "cell_type": "markdown",
   "id": "268c6829",
   "metadata": {},
   "source": [
    "### Logistic Regression Conclusion"
   ]
  },
  {
   "cell_type": "code",
   "execution_count": 34,
   "id": "25a39f19",
   "metadata": {},
   "outputs": [],
   "source": [
    "Y = Y_train.append(Y_val, ignore_index = True)\n",
    "Y.to_csv('Y.csv')\n",
    "\n",
    "Y_28 = Y_train_28.append(Y_val_28, ignore_index = True)\n",
    "Y_28.to_csv('Y_28.csv')"
   ]
  },
  {
   "cell_type": "markdown",
   "id": "3ebba9f3",
   "metadata": {},
   "source": [
    "As we can see, through a simple logistic regression, we managed to get a decent accuracy of  around 85%<br>\n",
    "However, the data is imbalanced and the accuracy for determining patients who died are significantly less accurate.<br>\n",
    "Regardless, from the result, the coefficient of EDTime is positive. This means that the longer the patient stays in ED, the less likely for them to survive."
   ]
  },
  {
   "cell_type": "markdown",
   "id": "7edf998f",
   "metadata": {},
   "source": [
    "### Case Matching"
   ]
  },
  {
   "cell_type": "code",
   "execution_count": 35,
   "id": "4a751509",
   "metadata": {},
   "outputs": [],
   "source": [
    "from psmpy import PsmPy\n",
    "from psmpy.functions import cohenD\n",
    "from psmpy.plotting import *"
   ]
  },
  {
   "cell_type": "code",
   "execution_count": 36,
   "id": "98a3583a",
   "metadata": {},
   "outputs": [],
   "source": [
    "NFS_X.insert(0, 'EDTime_grp', Y['EDTime_grp'])\n",
    "NFS_X.insert(0, 'No', NFS_X.index)\n",
    "NFS_X.drop(['EDTime'], axis=1, inplace= True)\n",
    "\n",
    "PCA_X.insert(0, 'EDTime_grp', Y['EDTime_grp'])\n",
    "PCA_X.insert(0, 'No', PCA_X.index)\n",
    "PCA_X.drop(['EDTime'], axis=1, inplace= True)\n",
    "\n",
    "SPA_X.insert(0, 'EDTime_grp', Y['EDTime_grp'])\n",
    "SPA_X.insert(0, 'No', SPA_X.index)\n",
    "SPA_X.drop(['EDTime'], axis=1, inplace= True)"
   ]
  },
  {
   "cell_type": "code",
   "execution_count": 37,
   "id": "40ab5fb4",
   "metadata": {},
   "outputs": [],
   "source": [
    "def CaseMatch(X, Grp1, Grp2, Grp_Remove_1, Grp_Remove_2, Grp_Remove_3, Weight, bal):\n",
    "    #Remove all treatment except 2 groups\n",
    "    X = X.drop(X[X.EDTime_grp == Grp_Remove_1].index)\n",
    "    X = X.drop(X[X.EDTime_grp == Grp_Remove_2].index)\n",
    "    X = X.drop(X[X.EDTime_grp == Grp_Remove_3].index)\n",
    "\n",
    "    X = X.replace({'EDTime_grp':{Grp1:0, Grp2:1}})\n",
    "    \n",
    "    for i in range(1, Weight.shape[0]):\n",
    "        X.iloc[:, i + 1] = X.iloc[:, i + 1] * Weight.iloc[i,1][0]\n",
    "    \n",
    "    psm = PsmPy(X, treatment='EDTime_grp', indx='No', exclude = [])\n",
    "    psm.logistic_ps(balance = bal)\n",
    "    psm.predicted_data;\n",
    "    \n",
    "    psm.knn_matched(matcher = 'propensity_logit', replacement=False, caliper=None)\n",
    "    \n",
    "    X_M = psm.df_matched[['No', 'matched_ID']].copy()\n",
    "    \n",
    "    return X_M"
   ]
  },
  {
   "cell_type": "code",
   "execution_count": 38,
   "id": "1fd8ddd3",
   "metadata": {},
   "outputs": [],
   "source": [
    "ones_NFS = LogR_NFS_coef.copy()\n",
    "for i in range(ones_NFS.shape[0]):\n",
    "    ones_NFS.iloc[i,1]=[1]\n",
    "\n",
    "ones_PCA = LogR_PCA_coef.copy()\n",
    "for i in range(ones_PCA.shape[0]):\n",
    "    ones_PCA.iloc[i,1]=[1]\n",
    "\n",
    "ones_SPA = LogR_SPA_coef.copy()\n",
    "for i in range(ones_SPA.shape[0]):\n",
    "    ones_SPA.iloc[i,1]=[1]"
   ]
  },
  {
   "cell_type": "code",
   "execution_count": 39,
   "id": "ab773a64",
   "metadata": {},
   "outputs": [],
   "source": [
    "#Match for each pair of group\n",
    "def GroupMatch(X, Weight):\n",
    "    try:\n",
    "        X_12 = CaseMatch(X, 1, 2, 3, 4, 5, Weight, True)\n",
    "    except:\n",
    "        X_12 = CaseMatch(X, 1, 2, 3, 4, 5, Weight, False)\n",
    "    \n",
    "    try:\n",
    "        X_13 = CaseMatch(X, 1, 3, 2, 4, 5, Weight, True)\n",
    "    except:\n",
    "        X_13 = CaseMatch(X, 1, 3, 2, 4, 5, Weight, False)\n",
    "        \n",
    "    try:\n",
    "        X_14 = CaseMatch(X, 1, 4, 2, 3, 5, Weight, True)\n",
    "    except:\n",
    "        X_14 = CaseMatch(X, 1, 4, 2, 3, 5, Weight, False)\n",
    "        \n",
    "    try:\n",
    "        X_15 = CaseMatch(X, 1, 5, 2, 3, 4, Weight, True)\n",
    "    except:\n",
    "        X_15 = CaseMatch(X, 1, 5, 2, 3, 4, Weight, False)\n",
    "        \n",
    "    try:\n",
    "        X_23 = CaseMatch(X, 2, 3, 1, 4, 5, Weight, True)\n",
    "    except:\n",
    "        X_23 = CaseMatch(X, 2, 3, 1, 4, 5, Weight, False)\n",
    "        \n",
    "    try:\n",
    "        X_24 = CaseMatch(X, 2, 4, 1, 3, 5, Weight, True)\n",
    "    except:\n",
    "        X_24 = CaseMatch(X, 2, 4, 1, 3, 5, Weight, False)\n",
    "        \n",
    "    try:\n",
    "        X_25 = CaseMatch(X, 2, 5, 1, 3, 4, Weight, True)\n",
    "    except:\n",
    "        X_25 = CaseMatch(X, 2, 5, 1, 3, 4, Weight, False)\n",
    "        \n",
    "    try:\n",
    "        X_34 = CaseMatch(X, 3, 4, 1, 2, 5, Weight, True)\n",
    "    except:\n",
    "        X_34 = CaseMatch(X, 3, 4, 1, 2, 5, Weight, False)\n",
    "        \n",
    "    try:\n",
    "        X_35 = CaseMatch(X, 3, 5, 1, 2, 4, Weight, True)\n",
    "    except:\n",
    "        X_35 = CaseMatch(X, 3, 5, 1, 2, 4, Weight, False)\n",
    "        \n",
    "    try:\n",
    "        X_45 = CaseMatch(X, 4, 5, 1, 2, 3, Weight, True)\n",
    "    except:\n",
    "        X_45 = CaseMatch(X, 4, 5, 1, 2, 3, Weight, False)\n",
    "    \n",
    "    X = X_12.copy()\n",
    "    X = X.rename(columns={\"No\": \"12_1\", \"matched_ID\": \"12_2\"})\n",
    "    X['13_1'] = X_13['No']\n",
    "    X['13_3'] = X_13['matched_ID']\n",
    "    X['14_1'] = X_14['No']\n",
    "    X['14_4'] = X_14['matched_ID']\n",
    "    X['15_1'] = X_15['No']\n",
    "    X['15_5'] = X_15['matched_ID']\n",
    "    X['23_2'] = X_23['No']\n",
    "    X['23_3'] = X_23['matched_ID']\n",
    "    X['24_2'] = X_24['No']\n",
    "    X['24_4'] = X_24['matched_ID']\n",
    "    X['25_2'] = X_25['No']\n",
    "    X['25_5'] = X_25['matched_ID']\n",
    "    X['34_3'] = X_34['No']\n",
    "    X['34_4'] = X_34['matched_ID']\n",
    "    X['35_3'] = X_35['No']\n",
    "    X['35_5'] = X_35['matched_ID']\n",
    "    X['45_4'] = X_45['No']\n",
    "    X['45_5'] = X_45['matched_ID']\n",
    "    \n",
    "    return X"
   ]
  },
  {
   "cell_type": "markdown",
   "id": "46750c0e",
   "metadata": {},
   "source": [
    "### No Feature Selection"
   ]
  },
  {
   "cell_type": "code",
   "execution_count": 40,
   "id": "ae65d11f",
   "metadata": {},
   "outputs": [],
   "source": [
    "#Without Weight\n",
    "NFS_M_NW = GroupMatch(NFS_X, ones_NFS)\n",
    "#With Weight\n",
    "NFS_M_GM = GroupMatch(NFS_X, LogR_NFS_coef)\n",
    "NFS_M_28 = GroupMatch(NFS_X, LogR_NFS_coef_28)"
   ]
  },
  {
   "cell_type": "markdown",
   "id": "e9cf8935",
   "metadata": {},
   "source": [
    "### PCA"
   ]
  },
  {
   "cell_type": "code",
   "execution_count": 41,
   "id": "100978a1",
   "metadata": {},
   "outputs": [],
   "source": [
    "#Without Weight\n",
    "PCA_M_NW = GroupMatch(PCA_X, ones_PCA)\n",
    "#With Weight\n",
    "PCA_M_GM = GroupMatch(PCA_X, LogR_PCA_coef)\n",
    "PCA_M_28 = GroupMatch(PCA_X, LogR_PCA_coef_28)"
   ]
  },
  {
   "cell_type": "markdown",
   "id": "b1e48130",
   "metadata": {},
   "source": [
    "### SPCA"
   ]
  },
  {
   "cell_type": "code",
   "execution_count": 42,
   "id": "556e82f9",
   "metadata": {},
   "outputs": [],
   "source": [
    "#Without Weight\n",
    "SPA_M_NW = GroupMatch(SPA_X, ones_SPA)\n",
    "#With Weight\n",
    "SPA_M_GM = GroupMatch(SPA_X, LogR_SPA_coef)\n",
    "SPA_M_28 = GroupMatch(SPA_X, LogR_SPA_coef_28)"
   ]
  },
  {
   "cell_type": "markdown",
   "id": "36d920f6",
   "metadata": {},
   "source": [
    "## Export results to CSV"
   ]
  },
  {
   "cell_type": "code",
   "execution_count": 43,
   "id": "d49a7aec",
   "metadata": {},
   "outputs": [],
   "source": [
    "NFS_M_NW.to_csv('NFS_M_NW.csv')\n",
    "NFS_M_GM.to_csv('NFS_M_GM.csv')\n",
    "NFS_M_28.to_csv('NFS_M_28.csv')\n",
    "PCA_M_NW.to_csv('PCA_M_NW.csv')\n",
    "PCA_M_GM.to_csv('PCA_M_GM.csv')\n",
    "PCA_M_28.to_csv('PCA_M_28.csv')\n",
    "SPA_M_NW.to_csv('SPA_M_NW.csv')\n",
    "SPA_M_GM.to_csv('SPA_M_GM.csv')\n",
    "SPA_M_28.to_csv('SPA_M_28.csv')"
   ]
  }
 ],
 "metadata": {
  "kernelspec": {
   "display_name": "Python 3 (ipykernel)",
   "language": "python",
   "name": "python3"
  },
  "language_info": {
   "codemirror_mode": {
    "name": "ipython",
    "version": 3
   },
   "file_extension": ".py",
   "mimetype": "text/x-python",
   "name": "python",
   "nbconvert_exporter": "python",
   "pygments_lexer": "ipython3",
   "version": "3.9.13"
  }
 },
 "nbformat": 4,
 "nbformat_minor": 5
}
